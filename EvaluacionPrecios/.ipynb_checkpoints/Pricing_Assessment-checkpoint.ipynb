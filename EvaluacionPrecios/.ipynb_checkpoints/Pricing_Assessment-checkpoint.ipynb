{
 "cells": [
  {
   "cell_type": "markdown",
   "metadata": {
    "id": "wbm4jBRG9BXE"
   },
   "source": [
    "## Simulating data and learning from it"
   ]
  },
  {
   "cell_type": "markdown",
   "metadata": {
    "id": "Ct5Y57c2RNSY"
   },
   "source": [
    "**1. Variable Simulation (You are only allowed to use the numpy library for this section)**\n",
    "\n",
    "**1.1.** Simulate a vector of shape=(100,1) (i.e. 100 rows and 1 column) where each element $\\epsilon_t$ is equal to the realization of a normal random variable with mean 0 and standard deviation 1.  ( $\\epsilon_t$ ~ $N(0,1)$)"
   ]
  },
  {
   "cell_type": "code",
   "execution_count": 4,
   "metadata": {
    "id": "87VU40jEYM0i"
   },
   "outputs": [],
   "source": [
    "import numpy as np"
   ]
  },
  {
   "cell_type": "code",
   "execution_count": 5,
   "metadata": {},
   "outputs": [
    {
     "name": "stdout",
     "output_type": "stream",
     "text": [
      "Dimenciones: (100,) \n",
      "\n",
      "Media -0.1258802786574256 \n",
      "\n",
      "Desviacion Estandar 0.9470799221452707 \n",
      "\n",
      "Vector resultante:\n",
      " [-0.33451245  0.56780006 -0.69617937  1.44280766 -0.6205257   1.25959423\n",
      "  0.03519157 -0.22318917 -1.08000367  1.21134126  1.20704503  1.3549716\n",
      "  0.13982801 -0.48407165 -1.20858754 -1.53652728  0.17788505  0.02802\n",
      " -1.99585201 -0.20770651  0.12018582  0.60719017  1.31274385  0.96427546\n",
      "  0.33768324 -1.20754398 -0.83811644 -1.00885864 -0.84556177  0.57775757\n",
      "  0.16760007  0.21701996  0.42494013  0.75368186  0.3578225  -0.05804728\n",
      "  1.17838442  0.0938442   0.39412141 -0.63421504 -0.3256907  -0.43817328\n",
      "  0.41743611 -0.45374679  0.29645738 -0.1614002  -2.41697154  0.47917349\n",
      " -1.03869008 -1.36731775 -1.54182489  0.22095483 -0.78396188  0.01663181\n",
      "  0.03639093  1.57426071  0.34231728  1.43201327 -0.27615767  0.38792646\n",
      " -0.32682379  2.28698674  0.71671562 -0.43322073  1.11168188 -0.06444687\n",
      " -0.42810602  0.3325923   0.25234973 -2.19572794  0.25103321  0.66486423\n",
      " -0.4060734  -1.18289771 -1.20278081  0.49880838  1.39407037  0.14051613\n",
      " -0.67931746 -1.57731785 -0.63266891  0.1687451  -0.70842158  0.71627601\n",
      "  0.40385992 -1.20711212 -1.21228983  0.34174919 -2.05314022  0.63324041\n",
      " -2.14099603 -2.25931632 -0.83927724 -0.5012063   0.67031368  0.27294624\n",
      " -0.66000588 -0.61949769  0.68473617 -1.1507326 ]\n"
     ]
    }
   ],
   "source": [
    "#Creacion del vector con numeros aleatorios con dsitribucion normal (0, 1)\n",
    "#Por defecto si no se especifica la media y desviacion estandar son 0 y 1 respectivamente\n",
    "vector = np.random.normal(size=100)\n",
    "#Imprime el vector generado\n",
    "print(\"Dimenciones:\", vector.shape, \"\\n\")\n",
    "print(\"Media\", np.mean(vector), \"\\n\")\n",
    "print(\"Desviacion Estandar\", np.std(vector), \"\\n\")\n",
    "print(\"Vector resultante:\\n\", vector)"
   ]
  },
  {
   "cell_type": "markdown",
   "metadata": {
    "id": "WzwVRAdQT73S"
   },
   "source": [
    "**1.2.** Simulate 2 vectors $X^{(1)}$ and $X^{(2)}$ of shape=(100,1) each, where each element is equal to:\n",
    "\n",
    "$x^{(1)}_t = 0.5 x^{(1)}_{t-1}+\\epsilon^{(1)}_t$   Where $\\epsilon^{(1)}_t$ ~ $N(0,1)$ and $x^{(1)}_0=0$\n",
    "\n",
    "$x^{(2)}_t = 0.8 x^{(2)}_{t-1}+\\epsilon^{(2)}_t$ Where $\\epsilon^{(2)}_t$ ~ $N(0,1)$ and $x^{(2)}_0=0$\n",
    "\n",
    "Of course, the vectors $X^{(1)}$ and $X^{(2)}$ are:\n",
    "\n",
    "$X^{(1)}=[x^{(1)}_0, x^{(1)}_1,x^{(1)}_2,...,x^{(1)}_{99}]'$ \n",
    "\n",
    "$X^{(2)}=[x^{(2)}_0, x^{(2)}_1,x^{(2)}_2,...,x^{(2)}_{99}]'$ \n",
    "\n"
   ]
  },
  {
   "cell_type": "code",
   "execution_count": 6,
   "metadata": {
    "id": "GIjVougKVGx-"
   },
   "outputs": [
    {
     "name": "stdout",
     "output_type": "stream",
     "text": [
      "[[ 0.        ]\n",
      " [ 0.74340806]\n",
      " [ 0.3109129 ]\n",
      " [ 1.58794855]\n",
      " [ 0.87533318]\n",
      " [ 0.29708266]\n",
      " [-0.23251714]\n",
      " [-0.37323867]\n",
      " [ 0.00872109]\n",
      " [-0.45743376]\n",
      " [ 1.6950572 ]\n",
      " [ 2.38339674]\n",
      " [ 2.34842378]\n",
      " [ 2.52227046]\n",
      " [ 2.23688304]\n",
      " [ 1.096818  ]\n",
      " [-0.20807555]\n",
      " [ 0.20450829]\n",
      " [-0.00912347]\n",
      " [ 0.73349285]\n",
      " [-0.96883651]\n",
      " [ 0.67687366]\n",
      " [ 1.40424092]\n",
      " [ 1.42601745]\n",
      " [ 0.18135967]\n",
      " [-1.96376997]\n",
      " [-2.27833788]\n",
      " [-1.49551985]\n",
      " [-2.42024787]\n",
      " [-1.87262654]\n",
      " [-1.68878604]\n",
      " [-2.02708298]\n",
      " [ 2.1963887 ]\n",
      " [ 1.71560611]\n",
      " [ 2.53394229]\n",
      " [ 2.58892139]\n",
      " [ 2.51624076]\n",
      " [ 0.06900873]\n",
      " [-0.44046293]\n",
      " [-0.3626702 ]\n",
      " [-0.33985971]\n",
      " [-0.89510572]\n",
      " [ 0.81216376]\n",
      " [ 1.92424779]\n",
      " [ 1.50187562]\n",
      " [ 0.81247927]\n",
      " [-2.29644315]\n",
      " [-1.23240551]\n",
      " [-0.94467523]\n",
      " [-0.16883026]\n",
      " [ 2.23173014]\n",
      " [-0.00564672]\n",
      " [-1.8861696 ]\n",
      " [-0.29410265]\n",
      " [-1.60462943]\n",
      " [-0.88156666]\n",
      " [-0.45525834]\n",
      " [-0.62648295]\n",
      " [-0.32270243]\n",
      " [-2.04690905]\n",
      " [-0.62096502]\n",
      " [-0.14412922]\n",
      " [-0.35991354]\n",
      " [ 0.30434017]\n",
      " [-0.98415123]\n",
      " [-0.44758207]\n",
      " [-0.74323661]\n",
      " [-1.35348754]\n",
      " [ 0.65105971]\n",
      " [-0.03279371]\n",
      " [-0.05663288]\n",
      " [ 1.2226039 ]\n",
      " [-0.02232363]\n",
      " [-0.99732477]\n",
      " [ 0.33370781]\n",
      " [ 1.40366535]\n",
      " [ 0.49757506]\n",
      " [-0.14480134]\n",
      " [-1.98748015]\n",
      " [-0.94533773]\n",
      " [ 0.35977868]\n",
      " [ 0.58621373]\n",
      " [ 0.3080219 ]\n",
      " [-1.58090219]\n",
      " [-0.07180298]\n",
      " [-1.01153283]\n",
      " [ 0.30649305]\n",
      " [ 0.54286159]\n",
      " [ 1.10487494]\n",
      " [ 1.24145591]\n",
      " [ 0.20415002]\n",
      " [ 1.54349281]\n",
      " [-0.67808649]\n",
      " [-0.71124235]\n",
      " [-1.59816847]\n",
      " [ 1.44784792]\n",
      " [ 1.45949755]\n",
      " [-0.38908947]\n",
      " [ 0.3103693 ]\n",
      " [ 0.32991423]]\n"
     ]
    },
    {
     "name": "stderr",
     "output_type": "stream",
     "text": [
      "<ipython-input-6-69cb65743243>:5: DeprecationWarning: `np.float` is a deprecated alias for the builtin `float`. To silence this warning, use `float` by itself. Doing this will not modify any behavior and is safe. If you specifically wanted the numpy scalar type, use `np.float64` here.\n",
      "Deprecated in NumPy 1.20; for more details and guidance: https://numpy.org/devdocs/release/1.20.0-notes.html#deprecations\n",
      "  vector_X1.astype(np.float)\n"
     ]
    }
   ],
   "source": [
    "# Crear el error para X1\n",
    "error_X1 = np.random.normal(size=100)\n",
    "# Crear el vector de la serie X1\n",
    "vector_X1 = np.zeros(100).reshape(100,1)\n",
    "vector_X1.astype(np.float)\n",
    "vector_X1[0] = 0\n",
    "for i in range(1,100):\n",
    "    vector_X1[i] = 0.5 * vector_X1[i-1] + error_X1[i]\n",
    "\n",
    "# Resultado\n",
    "print(vector_X1)"
   ]
  },
  {
   "cell_type": "code",
   "execution_count": 7,
   "metadata": {},
   "outputs": [
    {
     "name": "stdout",
     "output_type": "stream",
     "text": [
      "[[ 0.00000000e+00]\n",
      " [ 1.94221814e+00]\n",
      " [ 1.45305308e+00]\n",
      " [ 3.90888199e-01]\n",
      " [ 5.46948753e-02]\n",
      " [-1.50459234e+00]\n",
      " [-4.63332691e-01]\n",
      " [-6.90876487e-02]\n",
      " [-1.27197896e-01]\n",
      " [-7.73882444e-03]\n",
      " [ 7.12316794e-02]\n",
      " [ 2.07476490e-01]\n",
      " [ 1.53058019e+00]\n",
      " [ 1.48304581e+00]\n",
      " [ 1.36109054e+00]\n",
      " [ 1.26607933e+00]\n",
      " [ 2.21516884e+00]\n",
      " [-8.96607230e-02]\n",
      " [-2.04355096e-01]\n",
      " [ 3.09817361e-02]\n",
      " [-4.46946985e-01]\n",
      " [-9.60677651e-02]\n",
      " [-9.05414680e-01]\n",
      " [-7.40656686e-01]\n",
      " [ 1.12815277e+00]\n",
      " [ 1.65846417e+00]\n",
      " [ 9.37323250e-01]\n",
      " [ 3.04086797e-01]\n",
      " [ 2.03566670e+00]\n",
      " [ 2.69970996e+00]\n",
      " [ 1.25849865e+00]\n",
      " [ 2.05987343e+00]\n",
      " [ 1.56323195e+00]\n",
      " [ 1.83826039e-02]\n",
      " [-4.14341143e-01]\n",
      " [ 1.58940649e-01]\n",
      " [-7.77783001e-01]\n",
      " [-1.95263420e+00]\n",
      " [-1.42478414e+00]\n",
      " [-3.39115695e-02]\n",
      " [-1.60975538e+00]\n",
      " [-1.75020256e+00]\n",
      " [-1.60398511e+00]\n",
      " [-8.20328362e-01]\n",
      " [ 1.15093913e+00]\n",
      " [ 1.22766730e+00]\n",
      " [-1.44066470e-01]\n",
      " [ 1.14427769e-01]\n",
      " [-6.55820397e-01]\n",
      " [ 8.17871607e-01]\n",
      " [ 9.47755649e-01]\n",
      " [ 1.63802157e+00]\n",
      " [ 1.70699889e+00]\n",
      " [ 2.75145780e+00]\n",
      " [ 1.72399395e+00]\n",
      " [ 1.88514186e+00]\n",
      " [ 1.49864224e+00]\n",
      " [ 4.01404046e-01]\n",
      " [-3.54822015e-04]\n",
      " [-1.00181824e+00]\n",
      " [-9.19786450e-01]\n",
      " [-1.62447015e-01]\n",
      " [-4.10295921e-01]\n",
      " [ 3.23741170e-01]\n",
      " [ 2.37192221e+00]\n",
      " [ 2.39560038e+00]\n",
      " [ 2.99535945e-01]\n",
      " [ 3.82608102e-01]\n",
      " [ 2.03076098e+00]\n",
      " [ 1.39604358e+00]\n",
      " [ 1.45284175e+00]\n",
      " [ 1.15149477e+00]\n",
      " [ 7.56329651e-01]\n",
      " [-4.02057902e-02]\n",
      " [-2.68959861e-01]\n",
      " [-1.17238334e-01]\n",
      " [-2.93065669e-01]\n",
      " [ 8.92853317e-01]\n",
      " [ 3.13003793e-01]\n",
      " [ 7.07340840e-01]\n",
      " [ 9.85482895e-01]\n",
      " [ 1.13364202e-01]\n",
      " [-1.70536557e+00]\n",
      " [-3.24834617e+00]\n",
      " [-3.78560126e+00]\n",
      " [-3.18263711e+00]\n",
      " [-7.82207543e-01]\n",
      " [-2.85329816e+00]\n",
      " [-2.14041985e+00]\n",
      " [-2.57047867e+00]\n",
      " [-3.15969162e+00]\n",
      " [-3.78225261e+00]\n",
      " [-1.95648069e+00]\n",
      " [-5.71913105e-01]\n",
      " [-4.71023122e-01]\n",
      " [-1.89153297e+00]\n",
      " [-7.52350032e-01]\n",
      " [-2.31519153e+00]\n",
      " [-4.63962021e-01]\n",
      " [ 3.45283918e-01]]\n"
     ]
    },
    {
     "name": "stderr",
     "output_type": "stream",
     "text": [
      "<ipython-input-7-af6f0b809074>:5: DeprecationWarning: `np.float` is a deprecated alias for the builtin `float`. To silence this warning, use `float` by itself. Doing this will not modify any behavior and is safe. If you specifically wanted the numpy scalar type, use `np.float64` here.\n",
      "Deprecated in NumPy 1.20; for more details and guidance: https://numpy.org/devdocs/release/1.20.0-notes.html#deprecations\n",
      "  vector_X2.astype(np.float)\n"
     ]
    }
   ],
   "source": [
    "# Crear el error para X2\n",
    "error_X2 = np.random.normal(size=100)\n",
    "# Crear el vector de la serie X2\n",
    "vector_X2 = np.zeros(100).reshape(100,1)\n",
    "vector_X2.astype(np.float)\n",
    "vector_X2[0] = 0\n",
    "for i in range(1,100):\n",
    "    vector_X2[i] = 0.8 * vector_X2[i-1] + error_X2[i]\n",
    "\n",
    "# Resultado\n",
    "print(vector_X2)"
   ]
  },
  {
   "cell_type": "markdown",
   "metadata": {
    "id": "BHSw8FwP4kVP"
   },
   "source": [
    "**1.3.** Generate the variable $Y=2 X^{(1)}+ 3X^{(2)} + \\nu$  Where $\\nu_t\n",
    "$ ~ $N(0,1)$ \n"
   ]
  },
  {
   "cell_type": "code",
   "execution_count": 8,
   "metadata": {
    "id": "qWFTO6jIVIZh"
   },
   "outputs": [
    {
     "name": "stdout",
     "output_type": "stream",
     "text": [
      "Y = 2(X1) + 3(X2) + v\n",
      "\n",
      "Y : [[ -0.39242808]\n",
      " [  8.34037362]\n",
      " [  5.33722595]\n",
      " [  4.84175266]\n",
      " [ -0.01894804]\n",
      " [ -1.6999699 ]\n",
      " [  0.47504673]\n",
      " [ -2.07488162]\n",
      " [  0.24552296]\n",
      " [ -0.37088648]\n",
      " [  1.6571196 ]\n",
      " [  4.87096094]\n",
      " [  5.69908856]\n",
      " [  6.95655368]\n",
      " [  9.45419973]\n",
      " [  5.57684224]\n",
      " [  7.20092013]\n",
      " [  0.12356986]\n",
      " [ -0.51974462]\n",
      " [  1.34424851]\n",
      " [ -2.57901146]\n",
      " [ -0.55303921]\n",
      " [ -1.37701388]\n",
      " [ -0.05595775]\n",
      " [  3.59277007]\n",
      " [  0.91971007]\n",
      " [ -2.84872981]\n",
      " [ -1.39910099]\n",
      " [  0.32318454]\n",
      " [  4.49091408]\n",
      " [ -0.04115594]\n",
      " [  2.1467015 ]\n",
      " [  7.62095558]\n",
      " [  2.83023541]\n",
      " [  4.22161939]\n",
      " [  5.88366097]\n",
      " [  4.51916197]\n",
      " [ -5.65043762]\n",
      " [ -6.88078271]\n",
      " [ -1.28496999]\n",
      " [ -6.12602711]\n",
      " [ -6.60300631]\n",
      " [ -2.32994979]\n",
      " [  1.46775767]\n",
      " [  6.78038786]\n",
      " [  6.02820096]\n",
      " [ -5.62331518]\n",
      " [ -1.67185423]\n",
      " [ -3.10213362]\n",
      " [  2.59919739]\n",
      " [  7.0279056 ]\n",
      " [  6.13719434]\n",
      " [ -0.74245345]\n",
      " [  7.69607505]\n",
      " [  1.71653639]\n",
      " [  4.20678451]\n",
      " [  3.64787675]\n",
      " [  0.94583362]\n",
      " [ -0.47943641]\n",
      " [ -6.77329356]\n",
      " [ -3.98236432]\n",
      " [ -0.72411299]\n",
      " [ -1.62915484]\n",
      " [  1.54550971]\n",
      " [  4.94886882]\n",
      " [  7.42194823]\n",
      " [  0.73175886]\n",
      " [ -2.5028211 ]\n",
      " [  5.56511813]\n",
      " [  2.49920625]\n",
      " [  3.83380811]\n",
      " [  4.58663891]\n",
      " [  3.91000054]\n",
      " [ -3.38868066]\n",
      " [ -1.45992046]\n",
      " [  3.1815353 ]\n",
      " [  0.73672528]\n",
      " [  0.78059684]\n",
      " [ -3.63993888]\n",
      " [  1.66649468]\n",
      " [  2.35401932]\n",
      " [  2.78545747]\n",
      " [ -3.89633502]\n",
      " [-14.27162049]\n",
      " [-10.93588026]\n",
      " [-10.9988672 ]\n",
      " [ -1.22598247]\n",
      " [ -6.92264006]\n",
      " [ -4.51912658]\n",
      " [ -6.61727347]\n",
      " [-11.35217531]\n",
      " [ -9.28575379]\n",
      " [ -6.45461384]\n",
      " [ -2.09269711]\n",
      " [ -3.76786543]\n",
      " [ -2.2316765 ]\n",
      " [  1.95746026]\n",
      " [ -7.99894713]\n",
      " [ -2.29327983]\n",
      " [  4.87699877]]\n"
     ]
    },
    {
     "name": "stderr",
     "output_type": "stream",
     "text": [
      "<ipython-input-8-677d6348e5c3>:6: DeprecationWarning: `np.float` is a deprecated alias for the builtin `float`. To silence this warning, use `float` by itself. Doing this will not modify any behavior and is safe. If you specifically wanted the numpy scalar type, use `np.float64` here.\n",
      "Deprecated in NumPy 1.20; for more details and guidance: https://numpy.org/devdocs/release/1.20.0-notes.html#deprecations\n",
      "  vector_Y.astype(np.float)\n"
     ]
    }
   ],
   "source": [
    "# Crear el error v para el Y\n",
    "error_Y = np.random.normal(size=100)\n",
    "\n",
    "# Crear la ecuacion Y = 2(X1) + 3(X2) + v\n",
    "vector_Y = np.zeros(100).reshape(100,1)\n",
    "vector_Y.astype(np.float)\n",
    "vector_Y[0] = 0 + error_Y[0]\n",
    "\n",
    "for i in range(1,100):\n",
    "    vector_Y[i] = 2*vector_X1[i] + 3*vector_X2[i] + error_Y[i]\n",
    "\n",
    "print(\"Y = 2(X1) + 3(X2) + v\\n\")\n",
    "print(\"Y :\", vector_Y)"
   ]
  },
  {
   "cell_type": "markdown",
   "metadata": {
    "id": "99rMsuYO5XJr"
   },
   "source": [
    "**2. Estimation (You are only allowed to use the numpy library for this question)**"
   ]
  },
  {
   "cell_type": "markdown",
   "metadata": {
    "id": "-DI6M2tr51yv"
   },
   "source": [
    "**2.1.** Generate a function called `ols_estimator(y,X)` that returns the estimated coefficients $\\hat{\\beta}$ for the equation $y=X\\beta+\\upsilon$"
   ]
  },
  {
   "cell_type": "code",
   "execution_count": 24,
   "metadata": {
    "id": "vjRuDqaQ4x82"
   },
   "outputs": [
    {
     "name": "stdout",
     "output_type": "stream",
     "text": [
      "Los coeficientes son: [[1.9094667 ]\n",
      " [2.95176261]]\n",
      "B1:  1.9133655072440008\n",
      "B2:  2.953106098409153\n"
     ]
    },
    {
     "name": "stderr",
     "output_type": "stream",
     "text": [
      "<ipython-input-24-9efb6b38daa6>:7: FutureWarning: `rcond` parameter will change to the default of machine precision times ``max(M, N)`` where M and N are the input matrix dimensions.\n",
      "To use the future default and silence this warning we advise to pass `rcond=None`, to keep using the old, explicitly pass `rcond=-1`.\n",
      "  w = np.linalg.lstsq(X,y)[0]\n"
     ]
    }
   ],
   "source": [
    "# Se crea un solo array concatenando los vectores creados anteriormente\n",
    "X_train = np.concatenate([vector_X1, vector_X2], axis = 1)\n",
    "Y_train = vector_Y\n",
    "\n",
    "def ols_estimator(X, y):\n",
    "    # obtencion de los coeficientes\n",
    "    w = np.linalg.lstsq(X,y)[0] \n",
    "    return w\n",
    "coeficientes = ols_estimator(X_train, Y_train)\n",
    "print(\"Los coeficientes son:\", coeficientes)\n",
    "print(\"B1: \", coeficientes_B[0][0])\n",
    "print(\"B2: \", coeficientes_B[0][1])"
   ]
  },
  {
   "cell_type": "markdown",
   "metadata": {
    "id": "I_EEPr83-4MJ"
   },
   "source": [
    " **3. You are only allowed to use the Scikit-Learn for this question**"
   ]
  },
  {
   "cell_type": "markdown",
   "metadata": {
    "id": "tYghO18K_hsf"
   },
   "source": [
    "**3.1.** Use `sklearn.linear_model.LinearRegression` to estimate and report the oefficients $\\hat{\\beta}$ for the equation $y=X\\beta+\\upsilon$"
   ]
  },
  {
   "cell_type": "code",
   "execution_count": 25,
   "metadata": {
    "id": "mygRRZ0jVK08"
   },
   "outputs": [
    {
     "name": "stdout",
     "output_type": "stream",
     "text": [
      "Coeficientes:  [[1.91336551 2.9531061 ]]\n",
      "B1:  1.9133655072440008\n",
      "B2:  2.953106098409153\n"
     ]
    }
   ],
   "source": [
    "# Se crea un solo array concatenando los vectores creados anteriormente\n",
    "X_train = np.concatenate([vector_X1, vector_X2], axis = 1)\n",
    "Y_train = vector_Y\n",
    "\n",
    "from sklearn.linear_model import LinearRegression\n",
    "lm = LinearRegression()\n",
    "\n",
    "# Entrenamiento del modelo\n",
    "lm.fit(X_train, Y_train)\n",
    "\n",
    "# Prediccion\n",
    "Y_pred = lm.predict(X_train)\n",
    "coeficientes_B = lm.coef_\n",
    "\n",
    "print(\"Coeficientes: \", coeficientes_B)\n",
    "print(\"B1: \", coeficientes_B[0][0])\n",
    "print(\"B2: \", coeficientes_B[0][1])"
   ]
  },
  {
   "cell_type": "markdown",
   "metadata": {
    "id": "AqT-1iEM0F69"
   },
   "source": [
    "## Dealing with data"
   ]
  },
  {
   "cell_type": "markdown",
   "metadata": {
    "id": "QJcryo5q_2Vz"
   },
   "source": [
    "**4. For this section, you are only allowed to use pandas or maybe numpy**\n",
    "\n",
    "Some text files with data from identify people by RENIEC from 2014 through 2020 (pob_identificada_YYYY.txt) will be share to you. Before you begin to answer any question in this section, you have to load these files and consolidate them into a single DataFrame (df)"
   ]
  },
  {
   "cell_type": "code",
   "execution_count": 26,
   "metadata": {
    "id": "sAGTauOrRKsO"
   },
   "outputs": [],
   "source": [
    "import pandas as pd"
   ]
  },
  {
   "cell_type": "code",
   "execution_count": 27,
   "metadata": {},
   "outputs": [
    {
     "name": "stderr",
     "output_type": "stream",
     "text": [
      "C:\\Users\\marco\\anaconda3\\lib\\site-packages\\IPython\\core\\interactiveshell.py:3165: DtypeWarning: Columns (1,2) have mixed types.Specify dtype option on import or set low_memory=False.\n",
      "  has_raised = await self.run_ast_nodes(code_ast.body, cell_name,\n",
      "C:\\Users\\marco\\anaconda3\\lib\\site-packages\\IPython\\core\\interactiveshell.py:3165: DtypeWarning: Columns (5,6,7) have mixed types.Specify dtype option on import or set low_memory=False.\n",
      "  has_raised = await self.run_ast_nodes(code_ast.body, cell_name,\n"
     ]
    }
   ],
   "source": [
    "#declaro la variable url donde asigno la ruta de repositorio de github\n",
    "url = \"https://raw.githubusercontent.com/MarcosValdez/BusinessIntelligence/main/EvaluacionPrecios/dataset/\"\n",
    "dataset = \"pob_identificada_\"\n",
    "extension = \".txt\"\n",
    "# Se declara un dataframe vacio\n",
    "df_final = pd.DataFrame()\n",
    "#se crea un bucle para construir un dataframe donde esten todos los dataset desde el 2014 hasta el 2020\n",
    "for anio in range(2014,2021):\n",
    "    path = url + dataset + str(anio) + extension\n",
    "    df = pd.read_table(path, sep = \",\")\n",
    "    df[\"AÑO\"]=anio\n",
    "    df_final = pd.concat([df,df_final])"
   ]
  },
  {
   "cell_type": "markdown",
   "metadata": {
    "id": "AuHUhscQ_4yQ"
   },
   "source": [
    "**4.1.** How many nonresident male were identified from 2018 through 2019?"
   ]
  },
  {
   "cell_type": "code",
   "execution_count": 28,
   "metadata": {},
   "outputs": [
    {
     "name": "stdout",
     "output_type": "stream",
     "text": [
      "        RESIDENCIA    SEXO   AÑO  CANTIDAD\n",
      "354680  Extranjero  Hombre  2019         1\n",
      "354681  Extranjero  Hombre  2019         2\n",
      "354682  Extranjero  Hombre  2019         1\n",
      "354689  Extranjero  Hombre  2019         1\n",
      "354690  Extranjero  Hombre  2019         1\n",
      "...            ...     ...   ...       ...\n",
      "416904  Extranjero  Hombre  2018         1\n",
      "416905  Extranjero  Hombre  2018         1\n",
      "416906  Extranjero  Hombre  2018         1\n",
      "416907  Extranjero  Hombre  2018         1\n",
      "416908  Extranjero  Hombre  2018         1\n",
      "\n",
      "[63378 rows x 4 columns] \n",
      "\n",
      "La cantidad de hombres extrajeros registrados desde el 2018 hasta el 2019 son:  953841\n"
     ]
    }
   ],
   "source": [
    "# Declaro la variable df_extranjeros donde solo se van a almacenar las columnas RESIDENCIA, SEXO y AÑO\n",
    "df_filtro = df_final[[\"RESIDENCIA\", \"SEXO\", \"AÑO\", \"CANTIDAD\"]]\n",
    "\n",
    "# Se filtran a los extranjeros, hombres y años 2018 y 2019\n",
    "df_ext_hombres = df_filtro[(df_filtro[\"RESIDENCIA\"] == \"Extranjero\") \n",
    "                                & (df_filtro[\"SEXO\"] == \"Hombre\")\n",
    "                                & (df_filtro[\"AÑO\"] <= 2019) \n",
    "                                & (df_filtro[\"AÑO\"] >= 2018)]\n",
    "print(df_ext_hombres, \"\\n\")\n",
    "# Se calcula la cantidad de personas\n",
    "cantidad_total = df_ext_hombres[\"CANTIDAD\"].sum()\n",
    "\n",
    "# Se imprime la respuesta\n",
    "print(\"La cantidad de hombres extrajeros registrados desde el 2018 hasta el 2019 son: \", cantidad_total)"
   ]
  },
  {
   "cell_type": "markdown",
   "metadata": {
    "id": "cbSy_EWb6J8J"
   },
   "source": [
    "**4.2.** From 2016 through 2018 and in the department of Arequipa. What percentage of women represent female teenagers? [Hint: a teenager is a person whose age is between 10 to 19 years]"
   ]
  },
  {
   "cell_type": "code",
   "execution_count": 29,
   "metadata": {
    "id": "4rr5IKKg8Hz5"
   },
   "outputs": [
    {
     "name": "stdout",
     "output_type": "stream",
     "text": [
      "      DEPARTAMENTO   SEXO   AÑO  EDAD  CANTIDAD\n",
      "61833     Arequipa  Mujer  2018     0       405\n",
      "61834     Arequipa  Mujer  2018     1       444\n",
      "61835     Arequipa  Mujer  2018     2       467\n",
      "61836     Arequipa  Mujer  2018     3       483\n",
      "61837     Arequipa  Mujer  2018     4       541\n",
      "...            ...    ...   ...   ...       ...\n",
      "81439     Arequipa  Mujer  2016    89         1\n",
      "81440     Arequipa  Mujer  2016    90         1\n",
      "81441     Arequipa  Mujer  2016    91         2\n",
      "81442     Arequipa  Mujer  2016    92         1\n",
      "81443     Arequipa  Mujer  2016    93         2\n",
      "\n",
      "[30662 rows x 5 columns] \n",
      "\n",
      "Cantida total de mujeres de arequipa:  2235817 \n",
      "\n",
      "      DEPARTAMENTO   SEXO   AÑO  EDAD  CANTIDAD\n",
      "61843     Arequipa  Mujer  2018    10       499\n",
      "61844     Arequipa  Mujer  2018    11       533\n",
      "61845     Arequipa  Mujer  2018    12       497\n",
      "61846     Arequipa  Mujer  2018    13       489\n",
      "61847     Arequipa  Mujer  2018    14       493\n",
      "...            ...    ...   ...   ...       ...\n",
      "81368     Arequipa  Mujer  2016    15         3\n",
      "81369     Arequipa  Mujer  2016    16         5\n",
      "81370     Arequipa  Mujer  2016    17         6\n",
      "81371     Arequipa  Mujer  2016    18         5\n",
      "81372     Arequipa  Mujer  2016    19         5\n",
      "\n",
      "[3227 rows x 5 columns] \n",
      "\n",
      "Cantidad total de adolescente:  327415 \n",
      "\n",
      "Porcentaje pedido:  0.146\n"
     ]
    }
   ],
   "source": [
    "# Declaro la variable df_extranjeros donde solo se van a almacenar las columnas DEPARTAMENTEO, SEXO, AÑO, EDAD, CANTIDAD\n",
    "df_filtro = df_final[[\"DEPARTAMENTO\", \"SEXO\", \"AÑO\", \"EDAD\", \"CANTIDAD\"]]\n",
    "\n",
    "# Se filtran a los de arequipa, mujeres y años desde 2016 hasta 2018\n",
    "df_areq_mujer = df_filtro[(df_filtro[\"DEPARTAMENTO\"] == \"Arequipa\") \n",
    "                                & (df_filtro[\"SEXO\"] == \"Mujer\")\n",
    "                                & (df_filtro[\"AÑO\"] <= 2018) \n",
    "                                & (df_filtro[\"AÑO\"] >= 2016)]\n",
    "print(df_areq_mujer, \"\\n\")\n",
    "\n",
    "# Se calcula la cantidad total de mujeres\n",
    "total_areq_mujer = df_areq_mujer[\"CANTIDAD\"].sum()\n",
    "print(\"Cantida total de mujeres de arequipa: \", total_areq_mujer, \"\\n\")\n",
    "\n",
    "# Se filtra a las adolescentes, consideradas entre 10 a 19 años\n",
    "df_adolescente = df_areq_mujer[(df_areq_mujer[\"EDAD\"] <= 19) & (df_areq_mujer[\"EDAD\"] >= 10)]\n",
    "print(df_adolescente, \"\\n\")\n",
    "\n",
    "# Se calcula la cantidad total de adolescentes\n",
    "total_adolescente = df_adolescente[\"CANTIDAD\"].sum()\n",
    "print(\"Cantidad total de adolescente: \", total_adolescente, \"\\n\")\n",
    "\n",
    "# Respuesta\n",
    "print(\"Porcentaje pedido: \", round(total_adolescente/total_areq_mujer,3))"
   ]
  },
  {
   "cell_type": "markdown",
   "metadata": {
    "id": "MVJuXrG28CB2"
   },
   "source": [
    "**4.3.** From 2014 through 2020, which year the average age of elderly people (age equal or greather than 60 years) identified was the higher?"
   ]
  },
  {
   "cell_type": "code",
   "execution_count": 30,
   "metadata": {
    "id": "vbhwB0WP8rvR"
   },
   "outputs": [
    {
     "name": "stderr",
     "output_type": "stream",
     "text": [
      "<ipython-input-30-b1284af14ee1>:4: SettingWithCopyWarning: \n",
      "A value is trying to be set on a copy of a slice from a DataFrame.\n",
      "Try using .loc[row_indexer,col_indexer] = value instead\n",
      "\n",
      "See the caveats in the documentation: https://pandas.pydata.org/pandas-docs/stable/user_guide/indexing.html#returning-a-view-versus-a-copy\n",
      "  df_edades[\"TOTAL\"] = df_edades[\"EDAD\"]*df_edades[\"CANTIDAD\"]\n"
     ]
    },
    {
     "name": "stdout",
     "output_type": "stream",
     "text": [
      "Lista de edad promedio de personas mayores de 60 años\n",
      "\n",
      " AÑO  EDAD_PROMEDIO\n",
      "2018      70.588833\n",
      "2019      70.584048\n",
      "2017      70.565418\n",
      "2020      70.541285\n",
      "2016      70.526283\n",
      "2015      70.485849\n",
      "2014      70.465538\n"
     ]
    }
   ],
   "source": [
    "df_filtro = df_final[[\"AÑO\", \"EDAD\", \"CANTIDAD\"]]\n",
    "df_edades = df_filtro[df_filtro[\"EDAD\"] >= 60]\n",
    "# Calculando la edad total por cada registro\n",
    "df_edades[\"TOTAL\"] = df_edades[\"EDAD\"]*df_edades[\"CANTIDAD\"]\n",
    "\n",
    "# Agrupando por año de acurdo a la sumaria\n",
    "df_mayores_group = df_edades.groupby([\"AÑO\"], as_index = False).sum()\n",
    "\n",
    "# Calculado la edad promedio\n",
    "df_mayores_group[\"EDAD_PROMEDIO\"] = df_mayores_group[\"TOTAL\"]/df_mayores_group[\"CANTIDAD\"]\n",
    "\n",
    "# Ordeando la lista de forma descendente de acuerdo a la EDAD_PROMEDIO\n",
    "df_mayores_group.sort_values([\"EDAD_PROMEDIO\"], inplace = True, ascending = False)\n",
    "\n",
    "print(\"Lista de edad promedio de personas mayores de 60 años\\n\")\n",
    "print(df_mayores_group[[\"AÑO\", \"EDAD_PROMEDIO\"]].to_string(index=False))"
   ]
  },
  {
   "cell_type": "markdown",
   "metadata": {},
   "source": [
    "**4.4** Please show the top 5 cities with highest average age both males and females"
   ]
  },
  {
   "cell_type": "code",
   "execution_count": 31,
   "metadata": {},
   "outputs": [
    {
     "name": "stderr",
     "output_type": "stream",
     "text": [
      "<ipython-input-31-24fe9947bc4a>:8: SettingWithCopyWarning: \n",
      "A value is trying to be set on a copy of a slice from a DataFrame.\n",
      "Try using .loc[row_indexer,col_indexer] = value instead\n",
      "\n",
      "See the caveats in the documentation: https://pandas.pydata.org/pandas-docs/stable/user_guide/indexing.html#returning-a-view-versus-a-copy\n",
      "  df_hombres[\"TOTAL\"] = df_hombres[\"EDAD\"]*df_hombres[\"CANTIDAD\"]\n"
     ]
    },
    {
     "name": "stdout",
     "output_type": "stream",
     "text": [
      "Lista de las cinco ciudades con mayor edad promedio de hombres\n",
      "\n",
      "            PROVINCIA  EDAD_PROMEDIO\n",
      "General Sánchez Cerro      40.995181\n",
      "               Tarata      40.276568\n",
      "            Candarave      39.673474\n",
      "                Ocros      38.572182\n",
      "               Yauyos      38.256371\n"
     ]
    },
    {
     "name": "stderr",
     "output_type": "stream",
     "text": [
      "<ipython-input-31-24fe9947bc4a>:23: SettingWithCopyWarning: \n",
      "A value is trying to be set on a copy of a slice from a DataFrame.\n",
      "Try using .loc[row_indexer,col_indexer] = value instead\n",
      "\n",
      "See the caveats in the documentation: https://pandas.pydata.org/pandas-docs/stable/user_guide/indexing.html#returning-a-view-versus-a-copy\n",
      "  df_mujeres[\"TOTAL\"] = df_mujeres[\"EDAD\"]*df_mujeres[\"CANTIDAD\"]\n"
     ]
    },
    {
     "name": "stdout",
     "output_type": "stream",
     "text": [
      "Lista de las cinco ciudades con mayor edad promedio de mujeres\n",
      "\n",
      "            PROVINCIA  EDAD_PROMEDIO\n",
      "               Tarata      40.892364\n",
      "General Sánchez Cerro      40.763586\n",
      "            Candarave      39.951439\n",
      "                Ocros      38.700391\n",
      "                 Moho      38.513035\n"
     ]
    }
   ],
   "source": [
    "df_filtro = df_final[[\"PROVINCIA\", \"EDAD\", \"SEXO\", \"CANTIDAD\"]]\n",
    "#df_filtro.dropna(subset = [\"PROVINCIA\"], inplace = True)\n",
    "df_filtro = df_filtro[df_filtro[\"PROVINCIA\"] != \"-\"]\n",
    "\n",
    "#----------------------------- Hombres\n",
    "df_hombres = df_filtro[df_filtro[\"SEXO\"] == \"Hombre\"]\n",
    "\n",
    "df_hombres[\"TOTAL\"] = df_hombres[\"EDAD\"]*df_hombres[\"CANTIDAD\"]\n",
    "\n",
    "df_group_hombres = df_hombres.groupby([\"PROVINCIA\"], as_index = False).sum()\n",
    "# Calculado la edad promedio\n",
    "df_group_hombres[\"EDAD_PROMEDIO\"] = df_group_hombres[\"TOTAL\"]/df_group_hombres[\"CANTIDAD\"]\n",
    "\n",
    "# Ordeando la lista de forma descendente de acuerdo a la EDAD_PROMEDIO\n",
    "df_group_hombres.sort_values([\"EDAD_PROMEDIO\"], inplace = True, ascending = False)\n",
    "\n",
    "print(\"Lista de las cinco ciudades con mayor edad promedio de hombres\\n\")\n",
    "print(df_group_hombres[[\"PROVINCIA\", \"EDAD_PROMEDIO\"]].head().to_string(index=False))\n",
    "\n",
    "#----------------------------- Mujeres\n",
    "df_mujeres = df_filtro[df_filtro[\"SEXO\"] == \"Mujer\"]\n",
    "\n",
    "df_mujeres[\"TOTAL\"] = df_mujeres[\"EDAD\"]*df_mujeres[\"CANTIDAD\"]\n",
    "\n",
    "df_group_mujeres = df_mujeres.groupby([\"PROVINCIA\"], as_index = False).sum()\n",
    "# Calculado la edad promedio\n",
    "df_group_mujeres[\"EDAD_PROMEDIO\"] = df_group_mujeres[\"TOTAL\"]/df_group_mujeres[\"CANTIDAD\"]\n",
    "\n",
    "# Ordeando la lista de forma descendente de acuerdo a la EDAD_PROMEDIO\n",
    "df_group_mujeres.sort_values([\"EDAD_PROMEDIO\"], inplace = True, ascending = False)\n",
    "\n",
    "print(\"Lista de las cinco ciudades con mayor edad promedio de mujeres\\n\")\n",
    "print(df_group_mujeres[[\"PROVINCIA\", \"EDAD_PROMEDIO\"]].head().to_string(index=False))"
   ]
  },
  {
   "cell_type": "markdown",
   "metadata": {},
   "source": [
    "**4.5.** Please, test whether the average ages of women and men are statistically different. Prove it with python\n",
    "###### hint: You could plot a histogram to explain your idea."
   ]
  },
  {
   "cell_type": "code",
   "execution_count": 32,
   "metadata": {},
   "outputs": [],
   "source": [
    "import matplotlib.pyplot as plt\n",
    "import seaborn as sns\n",
    "%matplotlib inline"
   ]
  },
  {
   "cell_type": "code",
   "execution_count": 49,
   "metadata": {},
   "outputs": [
    {
     "name": "stderr",
     "output_type": "stream",
     "text": [
      "<ipython-input-49-b8da00c3eac9>:3: SettingWithCopyWarning: \n",
      "A value is trying to be set on a copy of a slice from a DataFrame.\n",
      "Try using .loc[row_indexer,col_indexer] = value instead\n",
      "\n",
      "See the caveats in the documentation: https://pandas.pydata.org/pandas-docs/stable/user_guide/indexing.html#returning-a-view-versus-a-copy\n",
      "  df_sexo_edad[\"TOTAL\"] = df_sexo_edad[\"EDAD\"]*df_sexo_edad[\"CANTIDAD\"]\n"
     ]
    },
    {
     "name": "stdout",
     "output_type": "stream",
     "text": [
      "          SEXO  EDAD  CANTIDAD  TOTAL\n",
      "0       Hombre     0       198      0\n",
      "1       Hombre     1       371    371\n",
      "2       Hombre     2       355    710\n",
      "3       Hombre     3       365   1095\n",
      "4       Hombre     4       357   1428\n",
      "...        ...   ...       ...    ...\n",
      "395640   Mujer    28         1     28\n",
      "395641   Mujer    54         1     54\n",
      "395642  Hombre    53         1     53\n",
      "395643  Hombre    58         1     58\n",
      "395644  Hombre    73         1     73\n",
      "\n",
      "[2726214 rows x 4 columns]\n",
      "  SEXO  EDAD_PROMEDIO\n",
      " Mujer      32.090447\n",
      "Hombre      31.253814\n",
      "Las mujeres tienen una edad media mayor a los hombres \n",
      "\n",
      "Analisis con estadistica descriptiva\n"
     ]
    },
    {
     "data": {
      "text/plain": [
       "<AxesSubplot:xlabel='SEXO', ylabel='EDAD'>"
      ]
     },
     "execution_count": 49,
     "metadata": {},
     "output_type": "execute_result"
    },
    {
     "data": {
      "image/png": "[encoded data removed]",
      "text/plain": [
       "<Figure size 432x288 with 1 Axes>"
      ]
     },
     "metadata": {
      "needs_background": "light"
     },
     "output_type": "display_data"
    }
   ],
   "source": [
    "df_sexo_edad = df_final[[\"SEXO\", \"EDAD\", \"CANTIDAD\"]]\n",
    "\n",
    "df_sexo_edad[\"TOTAL\"] = df_sexo_edad[\"EDAD\"]*df_sexo_edad[\"CANTIDAD\"]\n",
    "\n",
    "df_group_sexo = df_sexo_edad.groupby([\"SEXO\"], as_index = False).sum()\n",
    "print(df_sexo_edad)\n",
    "# Calculado la edad promedio\n",
    "df_group_sexo[\"EDAD_PROMEDIO\"] = df_group_sexo[\"TOTAL\"]/df_group_sexo[\"CANTIDAD\"]\n",
    "df_group_sexo.sort_values([\"EDAD_PROMEDIO\"], inplace = True, ascending = False)\n",
    "print(df_group_sexo[[\"SEXO\", \"EDAD_PROMEDIO\"]].to_string(index=False))\n",
    "print(\"Las mujeres tienen una edad media mayor a los hombres \\n\")\n",
    "\n",
    "print(\"Analisis con estadistica descriptiva\")\n",
    "sns.boxplot(x = \"SEXO\", y = \"EDAD\", data=df_sexo_edad)"
   ]
  },
  {
   "cell_type": "code",
   "execution_count": 56,
   "metadata": {},
   "outputs": [
    {
     "name": "stderr",
     "output_type": "stream",
     "text": [
      "C:\\Users\\marco\\anaconda3\\lib\\site-packages\\seaborn\\distributions.py:2557: FutureWarning: `distplot` is a deprecated function and will be removed in a future version. Please adapt your code to use either `displot` (a figure-level function with similar flexibility) or `histplot` (an axes-level function for histograms).\n",
      "  warnings.warn(msg, FutureWarning)\n",
      "C:\\Users\\marco\\anaconda3\\lib\\site-packages\\seaborn\\distributions.py:2557: FutureWarning: `distplot` is a deprecated function and will be removed in a future version. Please adapt your code to use either `displot` (a figure-level function with similar flexibility) or `histplot` (an axes-level function for histograms).\n",
      "  warnings.warn(msg, FutureWarning)\n"
     ]
    },
    {
     "data": {
      "text/plain": [
       "<matplotlib.legend.Legend at 0x23880a82f10>"
      ]
     },
     "execution_count": 56,
     "metadata": {},
     "output_type": "execute_result"
    },
    {
     "data": {
      "image/png": "[encoded data removed]",
      "text/plain": [
       "<Figure size 432x288 with 1 Axes>"
      ]
     },
     "metadata": {
      "needs_background": "light"
     },
     "output_type": "display_data"
    }
   ],
   "source": [
    "df_histo = df_sexo_edad[np.isfinite(df_sexo_edad[\"EDAD\"])]\n",
    "# Histograma de hombres\n",
    "sns.distplot(df_histo[df_histo[\"SEXO\"] == \"Hombre\"][\"EDAD\"], bins = 10, hist = True, label = \"Hombre\")\n",
    "\n",
    "# Histograma de mujeres\n",
    "sns.distplot(df_histo[df_histo[\"SEXO\"] == \"Mujer\"][\"EDAD\"], bins = 10, hist = True, label = \"Mujer\")\n",
    "\n",
    "plt.legend()"
   ]
  },
  {
   "cell_type": "code",
   "execution_count": 42,
   "metadata": {},
   "outputs": [
    {
     "data": {
      "text/html": [
       "<div>\n",
       "<style scoped>\n",
       "    .dataframe tbody tr th:only-of-type {\n",
       "        vertical-align: middle;\n",
       "    }\n",
       "\n",
       "    .dataframe tbody tr th {\n",
       "        vertical-align: top;\n",
       "    }\n",
       "\n",
       "    .dataframe thead th {\n",
       "        text-align: right;\n",
       "    }\n",
       "</style>\n",
       "<table border=\"1\" class=\"dataframe\">\n",
       "  <thead>\n",
       "    <tr style=\"text-align: right;\">\n",
       "      <th></th>\n",
       "      <th>SEXO</th>\n",
       "      <th>EDAD</th>\n",
       "      <th>CANTIDAD</th>\n",
       "      <th>TOTAL</th>\n",
       "    </tr>\n",
       "  </thead>\n",
       "  <tbody>\n",
       "    <tr>\n",
       "      <th>0</th>\n",
       "      <td>Hombre</td>\n",
       "      <td>0</td>\n",
       "      <td>198</td>\n",
       "      <td>0</td>\n",
       "    </tr>\n",
       "    <tr>\n",
       "      <th>1</th>\n",
       "      <td>Hombre</td>\n",
       "      <td>1</td>\n",
       "      <td>371</td>\n",
       "      <td>371</td>\n",
       "    </tr>\n",
       "    <tr>\n",
       "      <th>2</th>\n",
       "      <td>Hombre</td>\n",
       "      <td>2</td>\n",
       "      <td>355</td>\n",
       "      <td>710</td>\n",
       "    </tr>\n",
       "    <tr>\n",
       "      <th>3</th>\n",
       "      <td>Hombre</td>\n",
       "      <td>3</td>\n",
       "      <td>365</td>\n",
       "      <td>1095</td>\n",
       "    </tr>\n",
       "    <tr>\n",
       "      <th>4</th>\n",
       "      <td>Hombre</td>\n",
       "      <td>4</td>\n",
       "      <td>357</td>\n",
       "      <td>1428</td>\n",
       "    </tr>\n",
       "    <tr>\n",
       "      <th>...</th>\n",
       "      <td>...</td>\n",
       "      <td>...</td>\n",
       "      <td>...</td>\n",
       "      <td>...</td>\n",
       "    </tr>\n",
       "    <tr>\n",
       "      <th>395626</th>\n",
       "      <td>Hombre</td>\n",
       "      <td>51</td>\n",
       "      <td>1</td>\n",
       "      <td>51</td>\n",
       "    </tr>\n",
       "    <tr>\n",
       "      <th>395637</th>\n",
       "      <td>Hombre</td>\n",
       "      <td>45</td>\n",
       "      <td>1</td>\n",
       "      <td>45</td>\n",
       "    </tr>\n",
       "    <tr>\n",
       "      <th>395642</th>\n",
       "      <td>Hombre</td>\n",
       "      <td>53</td>\n",
       "      <td>1</td>\n",
       "      <td>53</td>\n",
       "    </tr>\n",
       "    <tr>\n",
       "      <th>395643</th>\n",
       "      <td>Hombre</td>\n",
       "      <td>58</td>\n",
       "      <td>1</td>\n",
       "      <td>58</td>\n",
       "    </tr>\n",
       "    <tr>\n",
       "      <th>395644</th>\n",
       "      <td>Hombre</td>\n",
       "      <td>73</td>\n",
       "      <td>1</td>\n",
       "      <td>73</td>\n",
       "    </tr>\n",
       "  </tbody>\n",
       "</table>\n",
       "<p>1350795 rows × 4 columns</p>\n",
       "</div>"
      ],
      "text/plain": [
       "          SEXO  EDAD  CANTIDAD  TOTAL\n",
       "0       Hombre     0       198      0\n",
       "1       Hombre     1       371    371\n",
       "2       Hombre     2       355    710\n",
       "3       Hombre     3       365   1095\n",
       "4       Hombre     4       357   1428\n",
       "...        ...   ...       ...    ...\n",
       "395626  Hombre    51         1     51\n",
       "395637  Hombre    45         1     45\n",
       "395642  Hombre    53         1     53\n",
       "395643  Hombre    58         1     58\n",
       "395644  Hombre    73         1     73\n",
       "\n",
       "[1350795 rows x 4 columns]"
      ]
     },
     "execution_count": 42,
     "metadata": {},
     "output_type": "execute_result"
    }
   ],
   "source": [
    "df_grouped = df_sexo_edad.groupby(\"SEXO\")\n",
    "df_grouped.get_group(\"Hombre\")"
   ]
  },
  {
   "cell_type": "code",
   "execution_count": 47,
   "metadata": {},
   "outputs": [
    {
     "name": "stdout",
     "output_type": "stream",
     "text": [
      "Resultados ANOVA, F:  1.8325461288099163  , P: 0.17582721750593786\n",
      "Dado que el p es mayor que 0.05, hay una significancia estadistica en las diferencia de edades segun el SEXO\n"
     ]
    }
   ],
   "source": [
    "from scipy import stats\n",
    "\n",
    "f_val, p_val = stats.f_oneway(df_grouped.get_group(\"Hombre\")[\"TOTAL\"], df_grouped.get_group(\"Mujer\")[\"TOTAL\"])\n",
    "\n",
    "print(\"Resultados ANOVA, F: \", f_val, \" , P:\", p_val )\n",
    "print(\"Dado que el p es mayor que 0.05, hay una significancia estadistica en las diferencia de edades segun el SEXO\")"
   ]
  }
 ],
 "metadata": {
  "colab": {
   "collapsed_sections": [],
   "name": "pruebaA3.ipynb",
   "provenance": []
  },
  "kernelspec": {
   "display_name": "Python 3",
   "language": "python",
   "name": "python3"
  },
  "language_info": {
   "codemirror_mode": {
    "name": "ipython",
    "version": 3
   },
   "file_extension": ".py",
   "mimetype": "text/x-python",
   "name": "python",
   "nbconvert_exporter": "python",
   "pygments_lexer": "ipython3",
   "version": "3.8.8"
  }
 },
 "nbformat": 4,
 "nbformat_minor": 1
}
