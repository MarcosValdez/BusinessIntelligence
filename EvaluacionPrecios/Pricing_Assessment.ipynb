{
 "cells": [
  {
   "cell_type": "markdown",
   "metadata": {
    "id": "wbm4jBRG9BXE"
   },
   "source": [
    "## Simulating data and learning from it"
   ]
  },
  {
   "cell_type": "markdown",
   "metadata": {
    "id": "Ct5Y57c2RNSY"
   },
   "source": [
    "**1. Variable Simulation (You are only allowed to use the numpy library for this section)**\n",
    "\n",
    "**1.1.** Simulate a vector of shape=(100,1) (i.e. 100 rows and 1 column) where each element $\\epsilon_t$ is equal to the realization of a normal random variable with mean 0 and standard deviation 1.  ( $\\epsilon_t$ ~ $N(0,1)$)"
   ]
  },
  {
   "cell_type": "code",
   "execution_count": 1,
   "metadata": {
    "id": "87VU40jEYM0i"
   },
   "outputs": [],
   "source": [
    "import numpy as np"
   ]
  },
  {
   "cell_type": "code",
   "execution_count": 46,
   "metadata": {},
   "outputs": [
    {
     "name": "stdout",
     "output_type": "stream",
     "text": [
      "Dimenciones: (100,) \n",
      "\n",
      "Media 0.11070020902217091 \n",
      "\n",
      "Desviacion Estandar 0.963477873141266 \n",
      "\n",
      "Vector resultante:\n",
      " [ 0.34369409  0.30109346 -0.82617512  1.40011999  1.17466814 -1.5887874\n",
      "  0.10659011 -0.27751855 -0.03834334  1.27734318  0.15190735  2.64661867\n",
      "  0.45333685 -1.60762428  0.75554755  0.46783469  0.64784195 -0.44490551\n",
      "  0.74833331  0.20083958  0.31417894  0.03480292 -0.50677087 -0.81745861\n",
      "  0.46028502  0.23726363 -0.47060687  0.35811851 -0.19644738  1.36793277\n",
      " -0.40810835  0.62783261 -0.53543561 -1.24540099  0.47234234  0.29037249\n",
      " -0.35483073  2.52290708  1.13000749 -1.28081661  0.43437896 -0.54043562\n",
      "  1.1014806  -0.53088413  0.5011484  -1.58102126  0.35586186  0.59123271\n",
      "  0.24048956 -0.33943944  2.28933325 -0.56337455  0.46760862 -0.95258912\n",
      "  0.87440346  0.69271783 -0.46196216 -0.82231384  0.05318651  0.5134286\n",
      " -0.07010638 -0.17711614 -0.15037747 -0.43308111 -2.04790314  0.16821886\n",
      " -0.71850428  0.69846873 -0.03395973  2.0652515  -0.08281847 -0.33541102\n",
      " -0.60769007  0.38716339  0.33939854 -0.91628295  0.97701001 -0.65419391\n",
      " -1.02555726 -0.64808744 -0.21791483 -1.11277637 -0.17079049  1.27680422\n",
      "  0.15996437 -0.88929854  2.19439098 -2.28112447  0.31761792 -0.81463524\n",
      "  1.55131804  0.23229092 -0.6280626  -1.47422344  1.32639639  2.34936255\n",
      "  0.95388732 -0.24782307  1.21115587  0.38322696]\n"
     ]
    }
   ],
   "source": [
    "#Creacion del vector con numeros aleatorios con dsitribucion normal (0, 1)\n",
    "#Por defecto si no se especifica la media y desviacion estandar son 0 y 1 respectivamente\n",
    "vector = np.random.normal(size=100)\n",
    "#Imprime el vector generado\n",
    "print(\"Dimenciones:\", vector.shape, \"\\n\")\n",
    "print(\"Media\", np.mean(vector), \"\\n\")\n",
    "print(\"Desviacion Estandar\", np.std(vector), \"\\n\")\n",
    "print(\"Vector resultante:\\n\", vector)"
   ]
  },
  {
   "cell_type": "markdown",
   "metadata": {
    "id": "WzwVRAdQT73S"
   },
   "source": [
    "**1.2.** Simulate 2 vectors $X^{(1)}$ and $X^{(2)}$ of shape=(100,1) each, where each element is equal to:\n",
    "\n",
    "$x^{(1)}_t = 0.5 x^{(1)}_{t-1}+\\epsilon^{(1)}_t$   Where $\\epsilon^{(1)}_t$ ~ $N(0,1)$ and $x^{(1)}_0=0$\n",
    "\n",
    "$x^{(2)}_t = 0.8 x^{(2)}_{t-1}+\\epsilon^{(2)}_t$ Where $\\epsilon^{(2)}_t$ ~ $N(0,1)$ and $x^{(2)}_0=0$\n",
    "\n",
    "Of course, the vectors $X^{(1)}$ and $X^{(2)}$ are:\n",
    "\n",
    "$X^{(1)}=[x^{(1)}_0, x^{(1)}_1,x^{(1)}_2,...,x^{(1)}_{99}]'$ \n",
    "\n",
    "$X^{(2)}=[x^{(2)}_0, x^{(2)}_1,x^{(2)}_2,...,x^{(2)}_{99}]'$ \n",
    "\n"
   ]
  },
  {
   "cell_type": "code",
   "execution_count": 3,
   "metadata": {
    "id": "GIjVougKVGx-"
   },
   "outputs": [
    {
     "name": "stdout",
     "output_type": "stream",
     "text": [
      "[[ 0.        ]\n",
      " [ 0.33694564]\n",
      " [ 0.57098991]\n",
      " [ 0.05472584]\n",
      " [ 0.29329606]\n",
      " [-0.77293962]\n",
      " [-1.36242313]\n",
      " [ 0.29848368]\n",
      " [-0.35258858]\n",
      " [-1.87911604]\n",
      " [-0.53680719]\n",
      " [-2.11485318]\n",
      " [ 0.58085087]\n",
      " [ 0.10670005]\n",
      " [ 0.14078028]\n",
      " [ 0.71304686]\n",
      " [ 0.32491153]\n",
      " [-0.34697812]\n",
      " [ 0.77432311]\n",
      " [-1.85858349]\n",
      " [-0.54829124]\n",
      " [-0.42181507]\n",
      " [ 1.86463472]\n",
      " [ 0.44657448]\n",
      " [-1.380854  ]\n",
      " [-2.01576665]\n",
      " [-2.42357371]\n",
      " [-0.77005743]\n",
      " [-0.61404221]\n",
      " [-0.05210999]\n",
      " [-0.74447519]\n",
      " [ 0.63717123]\n",
      " [-0.40527515]\n",
      " [-1.46234824]\n",
      " [ 0.02618685]\n",
      " [-0.57437563]\n",
      " [ 0.60473355]\n",
      " [ 0.42539933]\n",
      " [ 0.17949238]\n",
      " [-1.41079583]\n",
      " [-0.32034772]\n",
      " [ 0.14574809]\n",
      " [-0.54274086]\n",
      " [-2.06453137]\n",
      " [-0.33451591]\n",
      " [-1.3079208 ]\n",
      " [-0.89056924]\n",
      " [-0.01263369]\n",
      " [-0.68358259]\n",
      " [ 0.26808995]\n",
      " [ 1.07175118]\n",
      " [ 1.29995857]\n",
      " [ 1.80196192]\n",
      " [ 1.0029653 ]\n",
      " [ 0.5713045 ]\n",
      " [ 0.48529048]\n",
      " [-1.34570955]\n",
      " [-0.34100086]\n",
      " [ 1.63686729]\n",
      " [-0.45390015]\n",
      " [ 0.12116922]\n",
      " [ 0.02762214]\n",
      " [ 1.25864389]\n",
      " [ 2.33338229]\n",
      " [ 3.48353429]\n",
      " [ 3.10409583]\n",
      " [ 1.50551343]\n",
      " [ 2.17904912]\n",
      " [ 0.88579244]\n",
      " [-0.51099618]\n",
      " [ 0.58649798]\n",
      " [-1.09129774]\n",
      " [-0.34967012]\n",
      " [-1.08517714]\n",
      " [-1.08371132]\n",
      " [-0.04415087]\n",
      " [-0.70803406]\n",
      " [-1.95822111]\n",
      " [-0.67373115]\n",
      " [ 0.2380305 ]\n",
      " [ 0.48067919]\n",
      " [-0.51837278]\n",
      " [-0.08765854]\n",
      " [-0.94938037]\n",
      " [ 1.33474513]\n",
      " [ 2.19506434]\n",
      " [ 1.93252416]\n",
      " [ 1.34883291]\n",
      " [ 0.36761786]\n",
      " [ 0.99313308]\n",
      " [-1.33428711]\n",
      " [-1.05589058]\n",
      " [-0.23728859]\n",
      " [-0.88974746]\n",
      " [-1.66676478]\n",
      " [-1.36481015]\n",
      " [-0.99972699]\n",
      " [-0.32641103]\n",
      " [ 0.43733348]\n",
      " [-0.53886612]]\n"
     ]
    },
    {
     "name": "stderr",
     "output_type": "stream",
     "text": [
      "<ipython-input-3-69cb65743243>:5: DeprecationWarning: `np.float` is a deprecated alias for the builtin `float`. To silence this warning, use `float` by itself. Doing this will not modify any behavior and is safe. If you specifically wanted the numpy scalar type, use `np.float64` here.\n",
      "Deprecated in NumPy 1.20; for more details and guidance: https://numpy.org/devdocs/release/1.20.0-notes.html#deprecations\n",
      "  vector_X1.astype(np.float)\n"
     ]
    }
   ],
   "source": [
    "# Crear el error para X1\n",
    "error_X1 = np.random.normal(size=100)\n",
    "# Crear el vector de la serie X1\n",
    "vector_X1 = np.zeros(100).reshape(100,1)\n",
    "vector_X1.astype(np.float)\n",
    "vector_X1[0] = 0\n",
    "for i in range(1,100):\n",
    "    vector_X1[i] = 0.5 * vector_X1[i-1] + error_X1[i]\n",
    "\n",
    "# Resultado\n",
    "print(vector_X1)"
   ]
  },
  {
   "cell_type": "code",
   "execution_count": 4,
   "metadata": {},
   "outputs": [
    {
     "name": "stdout",
     "output_type": "stream",
     "text": [
      "[[ 0.00000000e+00]\n",
      " [-3.02916720e-01]\n",
      " [-3.80348540e-01]\n",
      " [-3.17133960e-01]\n",
      " [ 1.17160317e+00]\n",
      " [ 1.73345485e+00]\n",
      " [-1.14652618e-01]\n",
      " [-2.67241059e+00]\n",
      " [-2.69858952e+00]\n",
      " [-2.65196123e+00]\n",
      " [-2.29941436e+00]\n",
      " [-1.74060984e+00]\n",
      " [-1.94527534e+00]\n",
      " [-2.60530464e+00]\n",
      " [-2.83898423e+00]\n",
      " [-4.53743070e+00]\n",
      " [-2.94224950e+00]\n",
      " [-1.97373803e+00]\n",
      " [-1.58218048e+00]\n",
      " [-6.96392709e-01]\n",
      " [-4.05219625e-01]\n",
      " [ 1.03133149e+00]\n",
      " [-2.12690928e-01]\n",
      " [-4.40276464e-01]\n",
      " [ 9.33315115e-01]\n",
      " [ 1.55625103e+00]\n",
      " [ 7.38559946e-01]\n",
      " [-3.80516788e-02]\n",
      " [ 7.04188859e-01]\n",
      " [ 1.12665879e+00]\n",
      " [-3.01744744e-01]\n",
      " [-9.32443014e-01]\n",
      " [-7.90872164e-01]\n",
      " [-1.30609181e+00]\n",
      " [-2.59638153e+00]\n",
      " [-7.75106109e-01]\n",
      " [-1.63942687e+00]\n",
      " [ 8.24486061e-02]\n",
      " [ 1.37688194e+00]\n",
      " [ 3.45586349e-01]\n",
      " [-4.04477778e-01]\n",
      " [-6.96591379e-01]\n",
      " [-6.64510812e-01]\n",
      " [ 5.08708488e-01]\n",
      " [ 8.83186455e-01]\n",
      " [ 6.82187492e-01]\n",
      " [ 1.04751291e+00]\n",
      " [ 1.25522645e+00]\n",
      " [ 1.25211653e+00]\n",
      " [ 1.27402350e+00]\n",
      " [ 1.74391439e+00]\n",
      " [ 2.36996589e+00]\n",
      " [ 1.67619135e+00]\n",
      " [ 7.50442891e-01]\n",
      " [ 1.28876561e+00]\n",
      " [ 1.75114635e+00]\n",
      " [ 2.56554713e+00]\n",
      " [ 7.35462859e-01]\n",
      " [-9.84238943e-01]\n",
      " [-2.09094280e+00]\n",
      " [-1.73681322e+00]\n",
      " [-2.38284050e+00]\n",
      " [ 3.26936281e-01]\n",
      " [ 1.51051214e-01]\n",
      " [ 7.11569086e-01]\n",
      " [-7.00357870e-02]\n",
      " [-9.38789749e-01]\n",
      " [ 3.12050358e-01]\n",
      " [-9.42556428e-01]\n",
      " [-8.00604248e-01]\n",
      " [-1.42743301e+00]\n",
      " [-1.61761954e+00]\n",
      " [-1.00916520e+00]\n",
      " [-1.45851794e-01]\n",
      " [ 3.08365995e-01]\n",
      " [-1.17157853e+00]\n",
      " [-1.87352178e+00]\n",
      " [-1.75993146e+00]\n",
      " [-7.36676442e-01]\n",
      " [-7.58252890e-01]\n",
      " [-1.73189469e+00]\n",
      " [-2.15632638e+00]\n",
      " [-1.80862917e+00]\n",
      " [-1.02484015e+00]\n",
      " [ 1.31122853e+00]\n",
      " [ 1.40804785e+00]\n",
      " [-1.61605050e-01]\n",
      " [-1.19999780e+00]\n",
      " [-1.11731936e+00]\n",
      " [-6.76981242e-01]\n",
      " [-1.71008230e+00]\n",
      " [-4.16003985e-01]\n",
      " [ 1.43319138e-03]\n",
      " [-2.11264992e-01]\n",
      " [ 6.60908093e-03]\n",
      " [ 5.63848417e-01]\n",
      " [ 1.85460443e-01]\n",
      " [ 7.15530342e-01]\n",
      " [ 1.52454315e-01]\n",
      " [ 1.22671284e+00]]\n"
     ]
    },
    {
     "name": "stderr",
     "output_type": "stream",
     "text": [
      "<ipython-input-4-af6f0b809074>:5: DeprecationWarning: `np.float` is a deprecated alias for the builtin `float`. To silence this warning, use `float` by itself. Doing this will not modify any behavior and is safe. If you specifically wanted the numpy scalar type, use `np.float64` here.\n",
      "Deprecated in NumPy 1.20; for more details and guidance: https://numpy.org/devdocs/release/1.20.0-notes.html#deprecations\n",
      "  vector_X2.astype(np.float)\n"
     ]
    }
   ],
   "source": [
    "# Crear el error para X2\n",
    "error_X2 = np.random.normal(size=100)\n",
    "# Crear el vector de la serie X2\n",
    "vector_X2 = np.zeros(100).reshape(100,1)\n",
    "vector_X2.astype(np.float)\n",
    "vector_X2[0] = 0\n",
    "for i in range(1,100):\n",
    "    vector_X2[i] = 0.8 * vector_X2[i-1] + error_X2[i]\n",
    "\n",
    "# Resultado\n",
    "print(vector_X2)"
   ]
  },
  {
   "cell_type": "markdown",
   "metadata": {
    "id": "BHSw8FwP4kVP"
   },
   "source": [
    "**1.3.** Generate the variable $Y=2 X^{(1)}+ 3X^{(2)} + \\nu$  Where $\\nu_t\n",
    "$ ~ $N(0,1)$ \n"
   ]
  },
  {
   "cell_type": "code",
   "execution_count": 14,
   "metadata": {
    "id": "qWFTO6jIVIZh"
   },
   "outputs": [
    {
     "name": "stdout",
     "output_type": "stream",
     "text": [
      "Y = 2(X1) + 3(X2) + v\n",
      "\n",
      "Y : [[  0.67568242]\n",
      " [  0.27511837]\n",
      " [  0.67190033]\n",
      " [ -1.34292272]\n",
      " [  2.42161447]\n",
      " [  4.12750781]\n",
      " [ -2.90384553]\n",
      " [ -6.99196345]\n",
      " [ -9.06573092]\n",
      " [-11.91996472]\n",
      " [ -6.25177026]\n",
      " [ -9.05350683]\n",
      " [ -2.52855585]\n",
      " [ -7.86384483]\n",
      " [ -7.23735651]\n",
      " [-12.94639384]\n",
      " [ -9.65246957]\n",
      " [ -4.66781921]\n",
      " [ -2.97575078]\n",
      " [ -6.7646392 ]\n",
      " [ -2.2599834 ]\n",
      " [  2.45303367]\n",
      " [  3.59424591]\n",
      " [ -0.02346131]\n",
      " [  0.39368914]\n",
      " [  0.95868714]\n",
      " [ -1.85217611]\n",
      " [ -2.62372653]\n",
      " [  0.88748324]\n",
      " [  3.42381059]\n",
      " [ -4.17690971]\n",
      " [ -0.79389051]\n",
      " [ -4.20429433]\n",
      " [ -8.77471989]\n",
      " [ -6.65597757]\n",
      " [ -3.19832889]\n",
      " [ -4.55250124]\n",
      " [  2.15927484]\n",
      " [  4.31611031]\n",
      " [ -1.20982   ]\n",
      " [ -1.96441714]\n",
      " [ -0.77256882]\n",
      " [ -3.03599893]\n",
      " [ -3.0403721 ]\n",
      " [  1.38222697]\n",
      " [ -2.07209469]\n",
      " [  1.08845386]\n",
      " [  3.61049752]\n",
      " [  2.13790678]\n",
      " [  7.13285714]\n",
      " [  7.90932139]\n",
      " [ 10.86597849]\n",
      " [  8.34910791]\n",
      " [  3.73583135]\n",
      " [  4.62394209]\n",
      " [  4.07007696]\n",
      " [  5.33199721]\n",
      " [  0.31105981]\n",
      " [  0.77151338]\n",
      " [ -6.89577063]\n",
      " [ -6.09343877]\n",
      " [ -7.89177333]\n",
      " [  4.70654147]\n",
      " [  4.93489565]\n",
      " [ 10.3831826 ]\n",
      " [  6.47545362]\n",
      " [ -0.3380801 ]\n",
      " [  5.3783623 ]\n",
      " [ -1.14960246]\n",
      " [ -2.24267594]\n",
      " [ -3.42331949]\n",
      " [ -7.3178578 ]\n",
      " [ -4.26511578]\n",
      " [ -2.35262006]\n",
      " [ -0.84631715]\n",
      " [ -4.2145438 ]\n",
      " [ -7.96745083]\n",
      " [ -9.91751818]\n",
      " [ -3.14530597]\n",
      " [ -4.44283472]\n",
      " [ -5.23542255]\n",
      " [ -7.44035928]\n",
      " [ -5.53253143]\n",
      " [ -3.19980354]\n",
      " [  6.23956212]\n",
      " [  8.93156119]\n",
      " [  2.63840547]\n",
      " [ -1.61056354]\n",
      " [ -2.97594717]\n",
      " [  0.23969473]\n",
      " [ -7.28190952]\n",
      " [ -3.78553011]\n",
      " [ -1.07540613]\n",
      " [ -2.6995006 ]\n",
      " [ -3.16045855]\n",
      " [ -0.40621733]\n",
      " [ -3.34478326]\n",
      " [  1.76565457]\n",
      " [  2.80553328]\n",
      " [  2.87900242]]\n"
     ]
    },
    {
     "name": "stderr",
     "output_type": "stream",
     "text": [
      "<ipython-input-14-677d6348e5c3>:6: DeprecationWarning: `np.float` is a deprecated alias for the builtin `float`. To silence this warning, use `float` by itself. Doing this will not modify any behavior and is safe. If you specifically wanted the numpy scalar type, use `np.float64` here.\n",
      "Deprecated in NumPy 1.20; for more details and guidance: https://numpy.org/devdocs/release/1.20.0-notes.html#deprecations\n",
      "  vector_Y.astype(np.float)\n"
     ]
    }
   ],
   "source": [
    "# Crear el error v para el Y\n",
    "error_Y = np.random.normal(size=100)\n",
    "\n",
    "# Crear la ecuacion Y = 2(X1) + 3(X2) + v\n",
    "vector_Y = np.zeros(100).reshape(100,1)\n",
    "vector_Y.astype(np.float)\n",
    "vector_Y[0] = 0 + error_Y[0]\n",
    "\n",
    "for i in range(1,100):\n",
    "    vector_Y[i] = 2*vector_X1[i] + 3*vector_X2[i] + error_Y[i]\n",
    "\n",
    "print(\"Y = 2(X1) + 3(X2) + v\\n\")\n",
    "print(\"Y :\", vector_Y)"
   ]
  },
  {
   "cell_type": "markdown",
   "metadata": {
    "id": "99rMsuYO5XJr"
   },
   "source": [
    "**2. Estimation (You are only allowed to use the numpy library for this question)**"
   ]
  },
  {
   "cell_type": "markdown",
   "metadata": {
    "id": "-DI6M2tr51yv"
   },
   "source": [
    "**2.1.** Generate a function called `ols_estimator(y,X)` that returns the estimated coefficients $\\hat{\\beta}$ for the equation $y=X\\beta+\\upsilon$"
   ]
  },
  {
   "cell_type": "code",
   "execution_count": null,
   "metadata": {
    "id": "vjRuDqaQ4x82"
   },
   "outputs": [],
   "source": [
    "X = np.concatenate([vector_X1, vector_X2], axis = 1)\n",
    "def ols_estimator(X, y):\n",
    "    pass"
   ]
  },
  {
   "cell_type": "markdown",
   "metadata": {
    "id": "I_EEPr83-4MJ"
   },
   "source": [
    " **3. You are only allowed to use the Scikit-Learn for this question**"
   ]
  },
  {
   "cell_type": "markdown",
   "metadata": {
    "id": "tYghO18K_hsf"
   },
   "source": [
    "**3.1.** Use `sklearn.linear_model.LinearRegression` to estimate and report the oefficients $\\hat{\\beta}$ for the equation $y=X\\beta+\\upsilon$"
   ]
  },
  {
   "cell_type": "code",
   "execution_count": 25,
   "metadata": {
    "id": "mygRRZ0jVK08"
   },
   "outputs": [
    {
     "name": "stdout",
     "output_type": "stream",
     "text": [
      "Coeficientes:  [[2.08110775 3.0227254 ]]\n",
      "B1:  2.0811077508403844\n",
      "B2:  3.0227254000259487\n"
     ]
    }
   ],
   "source": [
    "# Se crea un solo array concatenando los vectores creados anteriormente\n",
    "X_train = np.concatenate([vector_X1, vector_X2], axis = 1)\n",
    "Y_train = vector_Y\n",
    "\n",
    "from sklearn.linear_model import LinearRegression\n",
    "lm = LinearRegression()\n",
    "\n",
    "# Entrenamiento del modelo\n",
    "lm.fit(X_train, Y_train)\n",
    "\n",
    "# Prediccion\n",
    "Y_pred = lm.predict(X_train)\n",
    "coeficientes_B = lm.coef_\n",
    "\n",
    "print(\"Coeficientes: \", coeficientes_B)\n",
    "print(\"B1: \", coeficientes_B[0][0])\n",
    "print(\"B2: \", coeficientes_B[0][1])"
   ]
  },
  {
   "cell_type": "markdown",
   "metadata": {
    "id": "AqT-1iEM0F69"
   },
   "source": [
    "## Dealing with data"
   ]
  },
  {
   "cell_type": "markdown",
   "metadata": {
    "id": "QJcryo5q_2Vz"
   },
   "source": [
    "**4. For this section, you are only allowed to use pandas or maybe numpy**\n",
    "\n",
    "Some text files with data from identify people by RENIEC from 2014 through 2020 (pob_identificada_YYYY.txt) will be share to you. Before you begin to answer any question in this section, you have to load these files and consolidate them into a single DataFrame (df)"
   ]
  },
  {
   "cell_type": "code",
   "execution_count": 1,
   "metadata": {
    "id": "sAGTauOrRKsO"
   },
   "outputs": [],
   "source": [
    "import pandas as pd"
   ]
  },
  {
   "cell_type": "code",
   "execution_count": 2,
   "metadata": {},
   "outputs": [
    {
     "name": "stderr",
     "output_type": "stream",
     "text": [
      "C:\\Users\\marco\\anaconda3\\lib\\site-packages\\IPython\\core\\interactiveshell.py:3165: DtypeWarning: Columns (1,2) have mixed types.Specify dtype option on import or set low_memory=False.\n",
      "  has_raised = await self.run_ast_nodes(code_ast.body, cell_name,\n",
      "C:\\Users\\marco\\anaconda3\\lib\\site-packages\\IPython\\core\\interactiveshell.py:3165: DtypeWarning: Columns (5,6,7) have mixed types.Specify dtype option on import or set low_memory=False.\n",
      "  has_raised = await self.run_ast_nodes(code_ast.body, cell_name,\n"
     ]
    }
   ],
   "source": [
    "#declaro la variable url donde asigno la ruta de repositorio de github\n",
    "url = \"https://raw.githubusercontent.com/MarcosValdez/BusinessIntelligence/main/EvaluacionPrecios/dataset/\"\n",
    "dataset = \"pob_identificada_\"\n",
    "extension = \".txt\"\n",
    "# Se declara un dataframe vacio\n",
    "df_final = pd.DataFrame()\n",
    "#se crea un bucle para construir un dataframe donde esten todos los dataset desde el 2014 hasta el 2020\n",
    "for anio in range(2014,2021):\n",
    "    path = url + dataset + str(anio) + extension\n",
    "    df = pd.read_table(path, sep = \",\")\n",
    "    df[\"AÑO\"]=anio\n",
    "    df_final = pd.concat([df,df_final])"
   ]
  },
  {
   "cell_type": "markdown",
   "metadata": {
    "id": "AuHUhscQ_4yQ"
   },
   "source": [
    "**4.1.** How many nonresident male were identified from 2018 through 2019?"
   ]
  },
  {
   "cell_type": "code",
   "execution_count": 61,
   "metadata": {},
   "outputs": [
    {
     "name": "stdout",
     "output_type": "stream",
     "text": [
      "        RESIDENCIA    SEXO   AÑO  CANTIDAD\n",
      "354680  Extranjero  Hombre  2019         1\n",
      "354681  Extranjero  Hombre  2019         2\n",
      "354682  Extranjero  Hombre  2019         1\n",
      "354689  Extranjero  Hombre  2019         1\n",
      "354690  Extranjero  Hombre  2019         1\n",
      "...            ...     ...   ...       ...\n",
      "416904  Extranjero  Hombre  2018         1\n",
      "416905  Extranjero  Hombre  2018         1\n",
      "416906  Extranjero  Hombre  2018         1\n",
      "416907  Extranjero  Hombre  2018         1\n",
      "416908  Extranjero  Hombre  2018         1\n",
      "\n",
      "[63378 rows x 4 columns] \n",
      "\n",
      "La cantidad de hombres extrajeros registrados desde el 2018 hasta el 2019 son:  953841\n"
     ]
    }
   ],
   "source": [
    "# Declaro la variable df_extranjeros donde solo se van a almacenar las columnas RESIDENCIA, SEXO y AÑO\n",
    "df_filtro = df_final[[\"RESIDENCIA\", \"SEXO\", \"AÑO\", \"CANTIDAD\"]]\n",
    "\n",
    "# Se filtran a los extranjeros, hombres y años 2018 y 2019\n",
    "df_ext_hombres = df_filtro[(df_filtro[\"RESIDENCIA\"] == \"Extranjero\") \n",
    "                                & (df_filtro[\"SEXO\"] == \"Hombre\")\n",
    "                                & (df_filtro[\"AÑO\"] <= 2019) \n",
    "                                & (df_filtro[\"AÑO\"] >= 2018)]\n",
    "print(df_ext_hombres, \"\\n\")\n",
    "# Se calcula la cantidad de personas\n",
    "cantidad_total = df_ext_hombres[\"CANTIDAD\"].sum()\n",
    "\n",
    "# Se imprime la respuesta\n",
    "print(\"La cantidad de hombres extrajeros registrados desde el 2018 hasta el 2019 son: \", cantidad_total)"
   ]
  },
  {
   "cell_type": "markdown",
   "metadata": {
    "id": "cbSy_EWb6J8J"
   },
   "source": [
    "**4.2.** From 2016 through 2018 and in the department of Arequipa. What percentage of women represent female teenagers? [Hint: a teenager is a person whose age is between 10 to 19 years]"
   ]
  },
  {
   "cell_type": "code",
   "execution_count": 64,
   "metadata": {
    "id": "4rr5IKKg8Hz5"
   },
   "outputs": [
    {
     "name": "stdout",
     "output_type": "stream",
     "text": [
      "      DEPARTAMENTO   SEXO   AÑO  EDAD  CANTIDAD\n",
      "61833     Arequipa  Mujer  2018     0       405\n",
      "61834     Arequipa  Mujer  2018     1       444\n",
      "61835     Arequipa  Mujer  2018     2       467\n",
      "61836     Arequipa  Mujer  2018     3       483\n",
      "61837     Arequipa  Mujer  2018     4       541\n",
      "...            ...    ...   ...   ...       ...\n",
      "81439     Arequipa  Mujer  2016    89         1\n",
      "81440     Arequipa  Mujer  2016    90         1\n",
      "81441     Arequipa  Mujer  2016    91         2\n",
      "81442     Arequipa  Mujer  2016    92         1\n",
      "81443     Arequipa  Mujer  2016    93         2\n",
      "\n",
      "[30662 rows x 5 columns] \n",
      "\n",
      "Cantida total de mujeres de arequipa:  2235817 \n",
      "\n",
      "      DEPARTAMENTO   SEXO   AÑO  EDAD  CANTIDAD\n",
      "61843     Arequipa  Mujer  2018    10       499\n",
      "61844     Arequipa  Mujer  2018    11       533\n",
      "61845     Arequipa  Mujer  2018    12       497\n",
      "61846     Arequipa  Mujer  2018    13       489\n",
      "61847     Arequipa  Mujer  2018    14       493\n",
      "...            ...    ...   ...   ...       ...\n",
      "81368     Arequipa  Mujer  2016    15         3\n",
      "81369     Arequipa  Mujer  2016    16         5\n",
      "81370     Arequipa  Mujer  2016    17         6\n",
      "81371     Arequipa  Mujer  2016    18         5\n",
      "81372     Arequipa  Mujer  2016    19         5\n",
      "\n",
      "[3227 rows x 5 columns] \n",
      "\n",
      "Cantidad total de adolescente:  327415 \n",
      "\n",
      "Porcentaje pedido:  0.146\n"
     ]
    }
   ],
   "source": [
    "# Declaro la variable df_extranjeros donde solo se van a almacenar las columnas DEPARTAMENTEO, SEXO, AÑO, EDAD, CANTIDAD\n",
    "df_filtro = df_final[[\"DEPARTAMENTO\", \"SEXO\", \"AÑO\", \"EDAD\", \"CANTIDAD\"]]\n",
    "\n",
    "# Se filtran a los de arequipa, mujeres y años desde 2016 hasta 2018\n",
    "df_areq_mujer = df_filtro[(df_filtro[\"DEPARTAMENTO\"] == \"Arequipa\") \n",
    "                                & (df_filtro[\"SEXO\"] == \"Mujer\")\n",
    "                                & (df_filtro[\"AÑO\"] <= 2018) \n",
    "                                & (df_filtro[\"AÑO\"] >= 2016)]\n",
    "print(df_areq_mujer, \"\\n\")\n",
    "\n",
    "# Se calcula la cantidad total de mujeres\n",
    "total_areq_mujer = df_areq_mujer[\"CANTIDAD\"].sum()\n",
    "print(\"Cantida total de mujeres de arequipa: \", total_areq_mujer, \"\\n\")\n",
    "\n",
    "# Se filtra a las adolescentes, consideradas entre 10 a 19 años\n",
    "df_adolescente = df_areq_mujer[(df_areq_mujer[\"EDAD\"] <= 19) & (df_areq_mujer[\"EDAD\"] >= 10)]\n",
    "print(df_adolescente, \"\\n\")\n",
    "\n",
    "# Se calcula la cantidad total de adolescentes\n",
    "total_adolescente = df_adolescente[\"CANTIDAD\"].sum()\n",
    "print(\"Cantidad total de adolescente: \", total_adolescente, \"\\n\")\n",
    "\n",
    "# Respuesta\n",
    "print(\"Porcentaje pedido: \", round(total_adolescente/total_areq_mujer,3))"
   ]
  },
  {
   "cell_type": "markdown",
   "metadata": {
    "id": "MVJuXrG28CB2"
   },
   "source": [
    "**4.3.** From 2014 through 2020, which year the average age of elderly people (age equal or greather than 60 years) identified was the higher?"
   ]
  },
  {
   "cell_type": "code",
   "execution_count": 185,
   "metadata": {
    "id": "vbhwB0WP8rvR"
   },
   "outputs": [
    {
     "name": "stdout",
     "output_type": "stream",
     "text": [
      "Lista de edad promedio de personas mayores de 60 años\n",
      "\n",
      " AÑO  EDAD_PROMEDIO\n",
      "2018      70.588833\n",
      "2019      70.584048\n",
      "2017      70.565418\n",
      "2020      70.541285\n",
      "2016      70.526283\n",
      "2015      70.485849\n",
      "2014      70.465538\n"
     ]
    },
    {
     "name": "stderr",
     "output_type": "stream",
     "text": [
      "<ipython-input-185-b1284af14ee1>:4: SettingWithCopyWarning: \n",
      "A value is trying to be set on a copy of a slice from a DataFrame.\n",
      "Try using .loc[row_indexer,col_indexer] = value instead\n",
      "\n",
      "See the caveats in the documentation: https://pandas.pydata.org/pandas-docs/stable/user_guide/indexing.html#returning-a-view-versus-a-copy\n",
      "  df_edades[\"TOTAL\"] = df_edades[\"EDAD\"]*df_edades[\"CANTIDAD\"]\n"
     ]
    }
   ],
   "source": [
    "df_filtro = df_final[[\"AÑO\", \"EDAD\", \"CANTIDAD\"]]\n",
    "df_edades = df_filtro[df_filtro[\"EDAD\"] >= 60]\n",
    "# Calculando la edad total por cada registro\n",
    "df_edades[\"TOTAL\"] = df_edades[\"EDAD\"]*df_edades[\"CANTIDAD\"]\n",
    "\n",
    "# Agrupando por año de acurdo a la sumaria\n",
    "df_mayores_group = df_edades.groupby([\"AÑO\"], as_index = False).sum()\n",
    "\n",
    "# Calculado la edad promedio\n",
    "df_mayores_group[\"EDAD_PROMEDIO\"] = df_mayores_group[\"TOTAL\"]/df_mayores_group[\"CANTIDAD\"]\n",
    "\n",
    "# Ordeando la lista de forma descendente de acuerdo a la EDAD_PROMEDIO\n",
    "df_mayores_group.sort_values([\"EDAD_PROMEDIO\"], inplace = True, ascending = False)\n",
    "\n",
    "print(\"Lista de edad promedio de personas mayores de 60 años\\n\")\n",
    "print(df_mayores_group[[\"AÑO\", \"EDAD_PROMEDIO\"]].to_string(index=False))"
   ]
  },
  {
   "cell_type": "markdown",
   "metadata": {},
   "source": [
    "**4.4** Please show the top 5 cities with highest average age both males and females"
   ]
  },
  {
   "cell_type": "code",
   "execution_count": 189,
   "metadata": {},
   "outputs": [
    {
     "name": "stderr",
     "output_type": "stream",
     "text": [
      "<ipython-input-189-24fe9947bc4a>:8: SettingWithCopyWarning: \n",
      "A value is trying to be set on a copy of a slice from a DataFrame.\n",
      "Try using .loc[row_indexer,col_indexer] = value instead\n",
      "\n",
      "See the caveats in the documentation: https://pandas.pydata.org/pandas-docs/stable/user_guide/indexing.html#returning-a-view-versus-a-copy\n",
      "  df_hombres[\"TOTAL\"] = df_hombres[\"EDAD\"]*df_hombres[\"CANTIDAD\"]\n"
     ]
    },
    {
     "name": "stdout",
     "output_type": "stream",
     "text": [
      "Lista de las cinco ciudades con mayor edad promedio de hombres\n",
      "\n",
      "            PROVINCIA  EDAD_PROMEDIO\n",
      "General Sánchez Cerro      40.995181\n",
      "               Tarata      40.276568\n",
      "            Candarave      39.673474\n",
      "                Ocros      38.572182\n",
      "               Yauyos      38.256371\n"
     ]
    },
    {
     "name": "stderr",
     "output_type": "stream",
     "text": [
      "<ipython-input-189-24fe9947bc4a>:23: SettingWithCopyWarning: \n",
      "A value is trying to be set on a copy of a slice from a DataFrame.\n",
      "Try using .loc[row_indexer,col_indexer] = value instead\n",
      "\n",
      "See the caveats in the documentation: https://pandas.pydata.org/pandas-docs/stable/user_guide/indexing.html#returning-a-view-versus-a-copy\n",
      "  df_mujeres[\"TOTAL\"] = df_mujeres[\"EDAD\"]*df_mujeres[\"CANTIDAD\"]\n"
     ]
    },
    {
     "name": "stdout",
     "output_type": "stream",
     "text": [
      "Lista de las cinco ciudades con mayor edad promedio de mujeres\n",
      "\n",
      "            PROVINCIA  EDAD_PROMEDIO\n",
      "               Tarata      40.892364\n",
      "General Sánchez Cerro      40.763586\n",
      "            Candarave      39.951439\n",
      "                Ocros      38.700391\n",
      "                 Moho      38.513035\n"
     ]
    }
   ],
   "source": [
    "df_filtro = df_final[[\"PROVINCIA\", \"EDAD\", \"SEXO\", \"CANTIDAD\"]]\n",
    "#df_filtro.dropna(subset = [\"PROVINCIA\"], inplace = True)\n",
    "df_filtro = df_filtro[df_filtro[\"PROVINCIA\"] != \"-\"]\n",
    "\n",
    "#----------------------------- Hombres\n",
    "df_hombres = df_filtro[df_filtro[\"SEXO\"] == \"Hombre\"]\n",
    "\n",
    "df_hombres[\"TOTAL\"] = df_hombres[\"EDAD\"]*df_hombres[\"CANTIDAD\"]\n",
    "\n",
    "df_group_hombres = df_hombres.groupby([\"PROVINCIA\"], as_index = False).sum()\n",
    "# Calculado la edad promedio\n",
    "df_group_hombres[\"EDAD_PROMEDIO\"] = df_group_hombres[\"TOTAL\"]/df_group_hombres[\"CANTIDAD\"]\n",
    "\n",
    "# Ordeando la lista de forma descendente de acuerdo a la EDAD_PROMEDIO\n",
    "df_group_hombres.sort_values([\"EDAD_PROMEDIO\"], inplace = True, ascending = False)\n",
    "\n",
    "print(\"Lista de las cinco ciudades con mayor edad promedio de hombres\\n\")\n",
    "print(df_group_hombres[[\"PROVINCIA\", \"EDAD_PROMEDIO\"]].head().to_string(index=False))\n",
    "\n",
    "#----------------------------- Mujeres\n",
    "df_mujeres = df_filtro[df_filtro[\"SEXO\"] == \"Mujer\"]\n",
    "\n",
    "df_mujeres[\"TOTAL\"] = df_mujeres[\"EDAD\"]*df_mujeres[\"CANTIDAD\"]\n",
    "\n",
    "df_group_mujeres = df_mujeres.groupby([\"PROVINCIA\"], as_index = False).sum()\n",
    "# Calculado la edad promedio\n",
    "df_group_mujeres[\"EDAD_PROMEDIO\"] = df_group_mujeres[\"TOTAL\"]/df_group_mujeres[\"CANTIDAD\"]\n",
    "\n",
    "# Ordeando la lista de forma descendente de acuerdo a la EDAD_PROMEDIO\n",
    "df_group_mujeres.sort_values([\"EDAD_PROMEDIO\"], inplace = True, ascending = False)\n",
    "\n",
    "print(\"Lista de las cinco ciudades con mayor edad promedio de mujeres\\n\")\n",
    "print(df_group_mujeres[[\"PROVINCIA\", \"EDAD_PROMEDIO\"]].head().to_string(index=False))"
   ]
  },
  {
   "cell_type": "markdown",
   "metadata": {},
   "source": [
    "**4.5.** Please, test whether the average ages of women and men are statistically different. Prove it with python\n",
    "###### hint: You could plot a histogram to explain your idea."
   ]
  },
  {
   "cell_type": "code",
   "execution_count": 213,
   "metadata": {},
   "outputs": [],
   "source": [
    "import matplotlib.pyplot as plt\n",
    "import seaborn as sns\n",
    "%matplotlib inline"
   ]
  },
  {
   "cell_type": "code",
   "execution_count": 219,
   "metadata": {},
   "outputs": [
    {
     "name": "stderr",
     "output_type": "stream",
     "text": [
      "<ipython-input-219-b8da00c3eac9>:3: SettingWithCopyWarning: \n",
      "A value is trying to be set on a copy of a slice from a DataFrame.\n",
      "Try using .loc[row_indexer,col_indexer] = value instead\n",
      "\n",
      "See the caveats in the documentation: https://pandas.pydata.org/pandas-docs/stable/user_guide/indexing.html#returning-a-view-versus-a-copy\n",
      "  df_sexo_edad[\"TOTAL\"] = df_sexo_edad[\"EDAD\"]*df_sexo_edad[\"CANTIDAD\"]\n"
     ]
    },
    {
     "name": "stdout",
     "output_type": "stream",
     "text": [
      "          SEXO  EDAD  CANTIDAD  TOTAL\n",
      "0       Hombre     0       198      0\n",
      "1       Hombre     1       371    371\n",
      "2       Hombre     2       355    710\n",
      "3       Hombre     3       365   1095\n",
      "4       Hombre     4       357   1428\n",
      "...        ...   ...       ...    ...\n",
      "395640   Mujer    28         1     28\n",
      "395641   Mujer    54         1     54\n",
      "395642  Hombre    53         1     53\n",
      "395643  Hombre    58         1     58\n",
      "395644  Hombre    73         1     73\n",
      "\n",
      "[2726214 rows x 4 columns]\n",
      "  SEXO  EDAD_PROMEDIO\n",
      " Mujer      32.090447\n",
      "Hombre      31.253814\n",
      "Las mujeres tienen una edad media mayor a los hombres \n",
      "\n",
      "Analisis con estadistica descriptiva\n"
     ]
    },
    {
     "data": {
      "text/plain": [
       "<AxesSubplot:xlabel='SEXO', ylabel='EDAD'>"
      ]
     },
     "execution_count": 219,
     "metadata": {},
     "output_type": "execute_result"
    },
    {
     "data": {
      "image/png": "[encoded data removed]",
      "text/plain": [
       "<Figure size 432x288 with 1 Axes>"
      ]
     },
     "metadata": {
      "needs_background": "light"
     },
     "output_type": "display_data"
    }
   ],
   "source": [
    "df_sexo_edad = df_final[[\"SEXO\", \"EDAD\", \"CANTIDAD\"]]\n",
    "\n",
    "df_sexo_edad[\"TOTAL\"] = df_sexo_edad[\"EDAD\"]*df_sexo_edad[\"CANTIDAD\"]\n",
    "\n",
    "df_group_sexo = df_sexo_edad.groupby([\"SEXO\"], as_index = False).sum()\n",
    "print(df_sexo_edad)\n",
    "# Calculado la edad promedio\n",
    "df_group_sexo[\"EDAD_PROMEDIO\"] = df_group_sexo[\"TOTAL\"]/df_group_sexo[\"CANTIDAD\"]\n",
    "df_group_sexo.sort_values([\"EDAD_PROMEDIO\"], inplace = True, ascending = False)\n",
    "print(df_group_sexo[[\"SEXO\", \"EDAD_PROMEDIO\"]].to_string(index=False))\n",
    "print(\"Las mujeres tienen una edad media mayor a los hombres \\n\")\n",
    "\n",
    "print(\"Analisis con estadistica descriptiva\")\n",
    "sns.boxplot(x = \"SEXO\", y = \"EDAD\", data=df_sexo_edad)"
   ]
  },
  {
   "cell_type": "code",
   "execution_count": null,
   "metadata": {},
   "outputs": [],
   "source": []
  }
 ],
 "metadata": {
  "colab": {
   "collapsed_sections": [],
   "name": "pruebaA3.ipynb",
   "provenance": []
  },
  "kernelspec": {
   "display_name": "Python 3",
   "language": "python",
   "name": "python3"
  },
  "language_info": {
   "codemirror_mode": {
    "name": "ipython",
    "version": 3
   },
   "file_extension": ".py",
   "mimetype": "text/x-python",
   "name": "python",
   "nbconvert_exporter": "python",
   "pygments_lexer": "ipython3",
   "version": "3.8.8"
  }
 },
 "nbformat": 4,
 "nbformat_minor": 1
}
