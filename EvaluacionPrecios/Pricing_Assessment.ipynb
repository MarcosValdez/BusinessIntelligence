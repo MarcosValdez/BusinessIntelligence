{
 "cells": [
  {
   "cell_type": "markdown",
   "metadata": {
    "id": "wbm4jBRG9BXE"
   },
   "source": [
    "## Simulating data and learning from it"
   ]
  },
  {
   "cell_type": "markdown",
   "metadata": {
    "id": "Ct5Y57c2RNSY"
   },
   "source": [
    "**1. Variable Simulation (You are only allowed to use the numpy library for this section)**\n",
    "\n",
    "**1.1.** Simulate a vector of shape=(100,1) (i.e. 100 rows and 1 column) where each element $\\epsilon_t$ is equal to the realization of a normal random variable with mean 0 and standard deviation 1.  ( $\\epsilon_t$ ~ $N(0,1)$)"
   ]
  },
  {
   "cell_type": "code",
   "execution_count": null,
   "metadata": {
    "id": "87VU40jEYM0i"
   },
   "outputs": [],
   "source": [
    "import numpy as np"
   ]
  },
  {
   "cell_type": "markdown",
   "metadata": {
    "id": "WzwVRAdQT73S"
   },
   "source": [
    "**1.2.** Simulate 2 vectors $X^{(1)}$ and $X^{(2)}$ of shape=(100,1) each, where each element is equal to:\n",
    "\n",
    "$x^{(1)}_t = 0.5 x^{(1)}_{t-1}+\\epsilon^{(1)}_t$   Where $\\epsilon^{(1)}_t$ ~ $N(0,1)$ and $x^{(1)}_0=0$\n",
    "\n",
    "$x^{(2)}_t = 0.8 x^{(2)}_{t-1}+\\epsilon^{(2)}_t$ Where $\\epsilon^{(2)}_t$ ~ $N(0,1)$ and $x^{(2)}_0=0$\n",
    "\n",
    "Of course, the vectors $X^{(1)}$ and $X^{(2)}$ are:\n",
    "\n",
    "$X^{(1)}=[x^{(1)}_0, x^{(1)}_1,x^{(1)}_2,...,x^{(1)}_{99}]'$ \n",
    "\n",
    "$X^{(2)}=[x^{(2)}_0, x^{(2)}_1,x^{(2)}_2,...,x^{(2)}_{99}]'$ \n",
    "\n"
   ]
  },
  {
   "cell_type": "code",
   "execution_count": null,
   "metadata": {
    "id": "GIjVougKVGx-"
   },
   "outputs": [],
   "source": []
  },
  {
   "cell_type": "markdown",
   "metadata": {
    "id": "BHSw8FwP4kVP"
   },
   "source": [
    "**1.3.** Generate the variable $Y=2 X^{(1)}+ 3X^{(2)} + \\nu$  Where $\\nu_t\n",
    "$ ~ $N(0,1)$ \n"
   ]
  },
  {
   "cell_type": "code",
   "execution_count": null,
   "metadata": {
    "id": "qWFTO6jIVIZh"
   },
   "outputs": [],
   "source": []
  },
  {
   "cell_type": "markdown",
   "metadata": {
    "id": "99rMsuYO5XJr"
   },
   "source": [
    "**2. Estimation (You are only allowed to use the numpy library for this question)**"
   ]
  },
  {
   "cell_type": "markdown",
   "metadata": {
    "id": "-DI6M2tr51yv"
   },
   "source": [
    "**2.1.** Generate a function called `ols_estimator(y,X)` that returns the estimated coefficients $\\hat{\\beta}$ for the equation $y=X\\beta+\\upsilon$"
   ]
  },
  {
   "cell_type": "code",
   "execution_count": null,
   "metadata": {
    "id": "vjRuDqaQ4x82"
   },
   "outputs": [],
   "source": [
    "def ols_estimator(X, y):\n",
    "    pass"
   ]
  },
  {
   "cell_type": "markdown",
   "metadata": {
    "id": "I_EEPr83-4MJ"
   },
   "source": [
    " **3. You are only allowed to use the Scikit-Learn for this question**"
   ]
  },
  {
   "cell_type": "markdown",
   "metadata": {
    "id": "tYghO18K_hsf"
   },
   "source": [
    "**3.1.** Use `sklearn.linear_model.LinearRegression` to estimate and report the oefficients $\\hat{\\beta}$ for the equation $y=X\\beta+\\upsilon$"
   ]
  },
  {
   "cell_type": "code",
   "execution_count": null,
   "metadata": {
    "id": "mygRRZ0jVK08"
   },
   "outputs": [],
   "source": []
  },
  {
   "cell_type": "markdown",
   "metadata": {
    "id": "AqT-1iEM0F69"
   },
   "source": [
    "## Dealing with data"
   ]
  },
  {
   "cell_type": "markdown",
   "metadata": {
    "id": "QJcryo5q_2Vz"
   },
   "source": [
    "**4. For this section, you are only allowed to use pandas or maybe numpy**\n",
    "\n",
    "Some text files with data from identify people by RENIEC from 2014 through 2020 (pob_identificada_YYYY.txt) will be share to you. Before you begin to answer any question in this section, you have to load these files and consolidate them into a single DataFrame (df)"
   ]
  },
  {
   "cell_type": "code",
   "execution_count": null,
   "metadata": {
    "id": "sAGTauOrRKsO"
   },
   "outputs": [],
   "source": [
    "import pandas as pd"
   ]
  },
  {
   "cell_type": "markdown",
   "metadata": {
    "id": "AuHUhscQ_4yQ"
   },
   "source": [
    "**4.1.** How many nonresident male were identified from 2018 through 2019?"
   ]
  },
  {
   "cell_type": "code",
   "execution_count": null,
   "metadata": {
    "id": "jj2Nkjvf0p3V"
   },
   "outputs": [],
   "source": []
  },
  {
   "cell_type": "markdown",
   "metadata": {
    "id": "cbSy_EWb6J8J"
   },
   "source": [
    "**4.2.** From 2016 through 2018 and in the department of Arequipa. What percentage of women represent female teenagers? [Hint: a teenager is a person whose age is between 10 to 19 years]"
   ]
  },
  {
   "cell_type": "code",
   "execution_count": null,
   "metadata": {
    "id": "4rr5IKKg8Hz5"
   },
   "outputs": [],
   "source": []
  },
  {
   "cell_type": "markdown",
   "metadata": {
    "id": "MVJuXrG28CB2"
   },
   "source": [
    "**4.3.** From 2014 through 2020, which year the average age of elderly people (age equal or greather than 60 years) identified was the higher?"
   ]
  },
  {
   "cell_type": "code",
   "execution_count": null,
   "metadata": {
    "id": "vbhwB0WP8rvR"
   },
   "outputs": [],
   "source": []
  },
  {
   "cell_type": "markdown",
   "metadata": {},
   "source": [
    "**4.4** Please show the top 5 cities with highest average age both males and females"
   ]
  },
  {
   "cell_type": "code",
   "execution_count": null,
   "metadata": {},
   "outputs": [],
   "source": []
  },
  {
   "cell_type": "markdown",
   "metadata": {},
   "source": [
    "**4.5.** Please, test whether the average ages of women and men are statistically different. Prove it with python\n",
    "###### hint: You could plot a histogram to explain your idea."
   ]
  },
  {
   "cell_type": "code",
   "execution_count": null,
   "metadata": {},
   "outputs": [],
   "source": []
  }
 ],
 "metadata": {
  "colab": {
   "collapsed_sections": [],
   "name": "pruebaA3.ipynb",
   "provenance": []
  },
  "kernelspec": {
   "display_name": "Python 3",
   "language": "python",
   "name": "python3"
  },
  "language_info": {
   "codemirror_mode": {
    "name": "ipython",
    "version": 3
   },
   "file_extension": ".py",
   "mimetype": "text/x-python",
   "name": "python",
   "nbconvert_exporter": "python",
   "pygments_lexer": "ipython3",
   "version": "3.7.6"
  }
 },
 "nbformat": 4,
 "nbformat_minor": 1
}
