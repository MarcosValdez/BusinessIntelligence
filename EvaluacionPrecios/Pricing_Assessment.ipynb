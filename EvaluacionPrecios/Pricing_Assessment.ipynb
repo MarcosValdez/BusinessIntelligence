{
 "cells": [
  {
   "cell_type": "markdown",
   "metadata": {
    "id": "wbm4jBRG9BXE"
   },
   "source": [
    "## Simulating data and learning from it"
   ]
  },
  {
   "cell_type": "markdown",
   "metadata": {
    "id": "Ct5Y57c2RNSY"
   },
   "source": [
    "**1. Variable Simulation (You are only allowed to use the numpy library for this section)**\n",
    "\n",
    "**1.1.** Simulate a vector of shape=(100,1) (i.e. 100 rows and 1 column) where each element $\\epsilon_t$ is equal to the realization of a normal random variable with mean 0 and standard deviation 1.  ( $\\epsilon_t$ ~ $N(0,1)$)"
   ]
  },
  {
   "cell_type": "code",
   "execution_count": 1,
   "metadata": {
    "id": "87VU40jEYM0i"
   },
   "outputs": [],
   "source": [
    "import numpy as np"
   ]
  },
  {
   "cell_type": "code",
   "execution_count": 46,
   "metadata": {},
   "outputs": [
    {
     "name": "stdout",
     "output_type": "stream",
     "text": [
      "Dimenciones: (100,) \n",
      "\n",
      "Media 0.11070020902217091 \n",
      "\n",
      "Desviacion Estandar 0.963477873141266 \n",
      "\n",
      "Vector resultante:\n",
      " [ 0.34369409  0.30109346 -0.82617512  1.40011999  1.17466814 -1.5887874\n",
      "  0.10659011 -0.27751855 -0.03834334  1.27734318  0.15190735  2.64661867\n",
      "  0.45333685 -1.60762428  0.75554755  0.46783469  0.64784195 -0.44490551\n",
      "  0.74833331  0.20083958  0.31417894  0.03480292 -0.50677087 -0.81745861\n",
      "  0.46028502  0.23726363 -0.47060687  0.35811851 -0.19644738  1.36793277\n",
      " -0.40810835  0.62783261 -0.53543561 -1.24540099  0.47234234  0.29037249\n",
      " -0.35483073  2.52290708  1.13000749 -1.28081661  0.43437896 -0.54043562\n",
      "  1.1014806  -0.53088413  0.5011484  -1.58102126  0.35586186  0.59123271\n",
      "  0.24048956 -0.33943944  2.28933325 -0.56337455  0.46760862 -0.95258912\n",
      "  0.87440346  0.69271783 -0.46196216 -0.82231384  0.05318651  0.5134286\n",
      " -0.07010638 -0.17711614 -0.15037747 -0.43308111 -2.04790314  0.16821886\n",
      " -0.71850428  0.69846873 -0.03395973  2.0652515  -0.08281847 -0.33541102\n",
      " -0.60769007  0.38716339  0.33939854 -0.91628295  0.97701001 -0.65419391\n",
      " -1.02555726 -0.64808744 -0.21791483 -1.11277637 -0.17079049  1.27680422\n",
      "  0.15996437 -0.88929854  2.19439098 -2.28112447  0.31761792 -0.81463524\n",
      "  1.55131804  0.23229092 -0.6280626  -1.47422344  1.32639639  2.34936255\n",
      "  0.95388732 -0.24782307  1.21115587  0.38322696]\n"
     ]
    }
   ],
   "source": [
    "#Creacion del vector con numeros aleatorios con dsitribucion normal (0, 1)\n",
    "#Por defecto si no se especifica la media y desviacion estandar son 0 y 1 respectivamente\n",
    "vector = np.random.normal(size=100)\n",
    "#Imprime el vector generado\n",
    "print(\"Dimenciones:\", vector.shape, \"\\n\")\n",
    "print(\"Media\", np.mean(vector), \"\\n\")\n",
    "print(\"Desviacion Estandar\", np.std(vector), \"\\n\")\n",
    "print(\"Vector resultante:\\n\", vector)"
   ]
  },
  {
   "cell_type": "markdown",
   "metadata": {
    "id": "WzwVRAdQT73S"
   },
   "source": [
    "**1.2.** Simulate 2 vectors $X^{(1)}$ and $X^{(2)}$ of shape=(100,1) each, where each element is equal to:\n",
    "\n",
    "$x^{(1)}_t = 0.5 x^{(1)}_{t-1}+\\epsilon^{(1)}_t$   Where $\\epsilon^{(1)}_t$ ~ $N(0,1)$ and $x^{(1)}_0=0$\n",
    "\n",
    "$x^{(2)}_t = 0.8 x^{(2)}_{t-1}+\\epsilon^{(2)}_t$ Where $\\epsilon^{(2)}_t$ ~ $N(0,1)$ and $x^{(2)}_0=0$\n",
    "\n",
    "Of course, the vectors $X^{(1)}$ and $X^{(2)}$ are:\n",
    "\n",
    "$X^{(1)}=[x^{(1)}_0, x^{(1)}_1,x^{(1)}_2,...,x^{(1)}_{99}]'$ \n",
    "\n",
    "$X^{(2)}=[x^{(2)}_0, x^{(2)}_1,x^{(2)}_2,...,x^{(2)}_{99}]'$ \n",
    "\n"
   ]
  },
  {
   "cell_type": "code",
   "execution_count": null,
   "metadata": {
    "id": "GIjVougKVGx-"
   },
   "outputs": [],
   "source": [
    "#Crear el error para X1\n",
    "error_X1 =\n",
    "#Crear el error para X2"
   ]
  },
  {
   "cell_type": "markdown",
   "metadata": {
    "id": "BHSw8FwP4kVP"
   },
   "source": [
    "**1.3.** Generate the variable $Y=2 X^{(1)}+ 3X^{(2)} + \\nu$  Where $\\nu_t\n",
    "$ ~ $N(0,1)$ \n"
   ]
  },
  {
   "cell_type": "code",
   "execution_count": null,
   "metadata": {
    "id": "qWFTO6jIVIZh"
   },
   "outputs": [],
   "source": []
  },
  {
   "cell_type": "markdown",
   "metadata": {
    "id": "99rMsuYO5XJr"
   },
   "source": [
    "**2. Estimation (You are only allowed to use the numpy library for this question)**"
   ]
  },
  {
   "cell_type": "markdown",
   "metadata": {
    "id": "-DI6M2tr51yv"
   },
   "source": [
    "**2.1.** Generate a function called `ols_estimator(y,X)` that returns the estimated coefficients $\\hat{\\beta}$ for the equation $y=X\\beta+\\upsilon$"
   ]
  },
  {
   "cell_type": "code",
   "execution_count": null,
   "metadata": {
    "id": "vjRuDqaQ4x82"
   },
   "outputs": [],
   "source": [
    "def ols_estimator(X, y):\n",
    "    pass"
   ]
  },
  {
   "cell_type": "markdown",
   "metadata": {
    "id": "I_EEPr83-4MJ"
   },
   "source": [
    " **3. You are only allowed to use the Scikit-Learn for this question**"
   ]
  },
  {
   "cell_type": "markdown",
   "metadata": {
    "id": "tYghO18K_hsf"
   },
   "source": [
    "**3.1.** Use `sklearn.linear_model.LinearRegression` to estimate and report the oefficients $\\hat{\\beta}$ for the equation $y=X\\beta+\\upsilon$"
   ]
  },
  {
   "cell_type": "code",
   "execution_count": null,
   "metadata": {
    "id": "mygRRZ0jVK08"
   },
   "outputs": [],
   "source": []
  },
  {
   "cell_type": "markdown",
   "metadata": {
    "id": "AqT-1iEM0F69"
   },
   "source": [
    "## Dealing with data"
   ]
  },
  {
   "cell_type": "markdown",
   "metadata": {
    "id": "QJcryo5q_2Vz"
   },
   "source": [
    "**4. For this section, you are only allowed to use pandas or maybe numpy**\n",
    "\n",
    "Some text files with data from identify people by RENIEC from 2014 through 2020 (pob_identificada_YYYY.txt) will be share to you. Before you begin to answer any question in this section, you have to load these files and consolidate them into a single DataFrame (df)"
   ]
  },
  {
   "cell_type": "code",
   "execution_count": 1,
   "metadata": {
    "id": "sAGTauOrRKsO"
   },
   "outputs": [],
   "source": [
    "import pandas as pd"
   ]
  },
  {
   "cell_type": "code",
   "execution_count": 2,
   "metadata": {},
   "outputs": [
    {
     "name": "stderr",
     "output_type": "stream",
     "text": [
      "C:\\Users\\marco\\anaconda3\\lib\\site-packages\\IPython\\core\\interactiveshell.py:3165: DtypeWarning: Columns (1,2) have mixed types.Specify dtype option on import or set low_memory=False.\n",
      "  has_raised = await self.run_ast_nodes(code_ast.body, cell_name,\n",
      "C:\\Users\\marco\\anaconda3\\lib\\site-packages\\IPython\\core\\interactiveshell.py:3165: DtypeWarning: Columns (5,6,7) have mixed types.Specify dtype option on import or set low_memory=False.\n",
      "  has_raised = await self.run_ast_nodes(code_ast.body, cell_name,\n"
     ]
    }
   ],
   "source": [
    "#declaro la variable url donde asigno la ruta de repositorio de github\n",
    "url = \"https://raw.githubusercontent.com/MarcosValdez/BusinessIntelligence/main/EvaluacionPrecios/dataset/\"\n",
    "dataset = \"pob_identificada_\"\n",
    "extension = \".txt\"\n",
    "# Se declara un dataframe vacio\n",
    "df_final = pd.DataFrame()\n",
    "#se crea un bucle para construir un dataframe donde esten todos los dataset desde el 2014 hasta el 2020\n",
    "for anio in range(2014,2021):\n",
    "    path = url + dataset + str(anio) + extension\n",
    "    df = pd.read_table(path, sep = \",\")\n",
    "    df[\"AÑO\"]=anio\n",
    "    df_final = pd.concat([df,df_final])"
   ]
  },
  {
   "cell_type": "markdown",
   "metadata": {
    "id": "AuHUhscQ_4yQ"
   },
   "source": [
    "**4.1.** How many nonresident male were identified from 2018 through 2019?"
   ]
  },
  {
   "cell_type": "code",
   "execution_count": 61,
   "metadata": {},
   "outputs": [
    {
     "name": "stdout",
     "output_type": "stream",
     "text": [
      "        RESIDENCIA    SEXO   AÑO  CANTIDAD\n",
      "354680  Extranjero  Hombre  2019         1\n",
      "354681  Extranjero  Hombre  2019         2\n",
      "354682  Extranjero  Hombre  2019         1\n",
      "354689  Extranjero  Hombre  2019         1\n",
      "354690  Extranjero  Hombre  2019         1\n",
      "...            ...     ...   ...       ...\n",
      "416904  Extranjero  Hombre  2018         1\n",
      "416905  Extranjero  Hombre  2018         1\n",
      "416906  Extranjero  Hombre  2018         1\n",
      "416907  Extranjero  Hombre  2018         1\n",
      "416908  Extranjero  Hombre  2018         1\n",
      "\n",
      "[63378 rows x 4 columns] \n",
      "\n",
      "La cantidad de hombres extrajeros registrados desde el 2018 hasta el 2019 son:  953841\n"
     ]
    }
   ],
   "source": [
    "# Declaro la variable df_extranjeros donde solo se van a almacenar las columnas RESIDENCIA, SEXO y AÑO\n",
    "df_filtro = df_final[[\"RESIDENCIA\", \"SEXO\", \"AÑO\", \"CANTIDAD\"]]\n",
    "\n",
    "# Se filtran a los extranjeros, hombres y años 2018 y 2019\n",
    "df_ext_hombres = df_filtro[(df_filtro[\"RESIDENCIA\"] == \"Extranjero\") \n",
    "                                & (df_filtro[\"SEXO\"] == \"Hombre\")\n",
    "                                & (df_filtro[\"AÑO\"] <= 2019) \n",
    "                                & (df_filtro[\"AÑO\"] >= 2018)]\n",
    "print(df_ext_hombres, \"\\n\")\n",
    "# Se calcula la cantidad de personas\n",
    "cantidad_total = df_ext_hombres[\"CANTIDAD\"].sum()\n",
    "\n",
    "# Se imprime la respuesta\n",
    "print(\"La cantidad de hombres extrajeros registrados desde el 2018 hasta el 2019 son: \", cantidad_total)"
   ]
  },
  {
   "cell_type": "markdown",
   "metadata": {
    "id": "cbSy_EWb6J8J"
   },
   "source": [
    "**4.2.** From 2016 through 2018 and in the department of Arequipa. What percentage of women represent female teenagers? [Hint: a teenager is a person whose age is between 10 to 19 years]"
   ]
  },
  {
   "cell_type": "code",
   "execution_count": 63,
   "metadata": {
    "id": "4rr5IKKg8Hz5"
   },
   "outputs": [
    {
     "name": "stdout",
     "output_type": "stream",
     "text": [
      "      DEPARTAMENTO   SEXO   AÑO  EDAD  CANTIDAD\n",
      "61833     Arequipa  Mujer  2018     0       405\n",
      "61834     Arequipa  Mujer  2018     1       444\n",
      "61835     Arequipa  Mujer  2018     2       467\n",
      "61836     Arequipa  Mujer  2018     3       483\n",
      "61837     Arequipa  Mujer  2018     4       541\n",
      "...            ...    ...   ...   ...       ...\n",
      "81439     Arequipa  Mujer  2016    89         1\n",
      "81440     Arequipa  Mujer  2016    90         1\n",
      "81441     Arequipa  Mujer  2016    91         2\n",
      "81442     Arequipa  Mujer  2016    92         1\n",
      "81443     Arequipa  Mujer  2016    93         2\n",
      "\n",
      "[30662 rows x 5 columns] \n",
      "\n",
      "Cantida total de mujeres de arequipa:  2235817 \n",
      "\n",
      "      DEPARTAMENTO   SEXO   AÑO  EDAD  CANTIDAD\n",
      "61843     Arequipa  Mujer  2018    10       499\n",
      "61844     Arequipa  Mujer  2018    11       533\n",
      "61845     Arequipa  Mujer  2018    12       497\n",
      "61846     Arequipa  Mujer  2018    13       489\n",
      "61847     Arequipa  Mujer  2018    14       493\n",
      "...            ...    ...   ...   ...       ...\n",
      "81368     Arequipa  Mujer  2016    15         3\n",
      "81369     Arequipa  Mujer  2016    16         5\n",
      "81370     Arequipa  Mujer  2016    17         6\n",
      "81371     Arequipa  Mujer  2016    18         5\n",
      "81372     Arequipa  Mujer  2016    19         5\n",
      "\n",
      "[3227 rows x 5 columns] \n",
      "\n",
      "Cantidad total de adolescente:  327415 \n",
      "\n",
      "Porcentaje pedido:  0.146\n"
     ]
    }
   ],
   "source": [
    "# Declaro la variable df_extranjeros donde solo se van a almacenar las columnas DEPARTAMENTEO, SEXO, AÑO, EDAD, CANTIDAD\n",
    "df_filtro = df_final[[\"DEPARTAMENTO\", \"SEXO\", \"AÑO\", \"EDAD\", \"CANTIDAD\"]]\n",
    "\n",
    "# Se filtran a los de arequipa, mujeres y años desde 2016 hasta 2018\n",
    "df_areq_mujer = df_filtro[(df_filtro[\"DEPARTAMENTO\"] == \"Arequipa\") \n",
    "                                & (df_filtro[\"SEXO\"] == \"Mujer\")\n",
    "                                & (df_filtro[\"AÑO\"] <= 2018) \n",
    "                                & (df_filtro[\"AÑO\"] >= 2016)]\n",
    "print(df_areq_mujer, \"\\n\")\n",
    "\n",
    "# Se calcula la cantidad total de mujeres\n",
    "total_areq_mujer = df_areq_mujer[\"CANTIDAD\"].sum()\n",
    "print(\"Cantida total de mujeres de arequipa: \", total_areq_mujer, \"\\n\")\n",
    "\n",
    "# Se filtra a las adolescentes, consideradas entre 10 a 19 años\n",
    "df_adolescente = df_areq_mujer[(df_areq_mujer[\"EDAD\"] <= 19) & (df_areq_mujer[\"EDAD\"] >= 10)]\n",
    "print(df_adolescente, \"\\n\")\n",
    "\n",
    "# Se calcula la cantidad total de adolescentes\n",
    "total_adolescente = df_adolescente[\"CANTIDAD\"].sum()\n",
    "print(\"Cantidad total de adolescente: \", total_adolescente, \"\\n\")\n",
    "\n",
    "print(\"Porcentaje pedido: \", round(total_adolescente/total_areq_mujer,3))"
   ]
  },
  {
   "cell_type": "markdown",
   "metadata": {
    "id": "MVJuXrG28CB2"
   },
   "source": [
    "**4.3.** From 2014 through 2020, which year the average age of elderly people (age equal or greather than 60 years) identified was the higher?"
   ]
  },
  {
   "cell_type": "code",
   "execution_count": null,
   "metadata": {
    "id": "vbhwB0WP8rvR"
   },
   "outputs": [],
   "source": []
  },
  {
   "cell_type": "markdown",
   "metadata": {},
   "source": [
    "**4.4** Please show the top 5 cities with highest average age both males and females"
   ]
  },
  {
   "cell_type": "code",
   "execution_count": null,
   "metadata": {},
   "outputs": [],
   "source": []
  },
  {
   "cell_type": "markdown",
   "metadata": {},
   "source": [
    "**4.5.** Please, test whether the average ages of women and men are statistically different. Prove it with python\n",
    "###### hint: You could plot a histogram to explain your idea."
   ]
  },
  {
   "cell_type": "code",
   "execution_count": null,
   "metadata": {},
   "outputs": [],
   "source": []
  }
 ],
 "metadata": {
  "colab": {
   "collapsed_sections": [],
   "name": "pruebaA3.ipynb",
   "provenance": []
  },
  "kernelspec": {
   "display_name": "Python 3",
   "language": "python",
   "name": "python3"
  },
  "language_info": {
   "codemirror_mode": {
    "name": "ipython",
    "version": 3
   },
   "file_extension": ".py",
   "mimetype": "text/x-python",
   "name": "python",
   "nbconvert_exporter": "python",
   "pygments_lexer": "ipython3",
   "version": "3.8.8"
  }
 },
 "nbformat": 4,
 "nbformat_minor": 1
}
